{
  "cells": [
    {
      "cell_type": "markdown",
      "metadata": {
        "id": "view-in-github",
        "colab_type": "text"
      },
      "source": [
        "<a href=\"https://colab.research.google.com/github/sakhawat3003/Financial-Data-Analysis/blob/main/Financial_Data_Analysis_by_Md_Sakhawat_Hossen.ipynb\" target=\"_parent\"><img src=\"https://colab.research.google.com/assets/colab-badge.svg\" alt=\"Open In Colab\"/></a>"
      ]
    },
    {
      "cell_type": "markdown",
      "id": "fc5e1d80",
      "metadata": {
        "id": "fc5e1d80"
      },
      "source": [
        "### Import the requisite modules/packages"
      ]
    },
    {
      "cell_type": "code",
      "execution_count": null,
      "id": "c1628e9e",
      "metadata": {
        "id": "c1628e9e"
      },
      "outputs": [],
      "source": [
        "import pandas as pd\n",
        "import matplotlib.pyplot as plt\n",
        "import seaborn as sns\n",
        "import numpy as np\n",
        "import scipy.stats as stats\n",
        "from statsmodels.tsa.stattools import adfuller\n",
        "from statsmodels.tsa.arima.model import ARIMA\n",
        "from statsmodels.tsa.statespace.sarimax import SARIMAX"
      ]
    },
    {
      "cell_type": "markdown",
      "id": "1dec7a59",
      "metadata": {
        "id": "1dec7a59"
      },
      "source": [
        "### Import the excel data sheet with historical vendor payment data"
      ]
    },
    {
      "cell_type": "code",
      "execution_count": null,
      "id": "674e9c69",
      "metadata": {
        "scrolled": false,
        "id": "674e9c69",
        "outputId": "dd2cdad7-4d61-4176-da44-b8e2de369e77"
      },
      "outputs": [
        {
          "data": {
            "text/html": [
              "<div>\n",
              "<style scoped>\n",
              "    .dataframe tbody tr th:only-of-type {\n",
              "        vertical-align: middle;\n",
              "    }\n",
              "\n",
              "    .dataframe tbody tr th {\n",
              "        vertical-align: top;\n",
              "    }\n",
              "\n",
              "    .dataframe thead th {\n",
              "        text-align: right;\n",
              "    }\n",
              "</style>\n",
              "<table border=\"1\" class=\"dataframe\">\n",
              "  <thead>\n",
              "    <tr style=\"text-align: right;\">\n",
              "      <th></th>\n",
              "      <th>Contractor</th>\n",
              "      <th>Client Invoice WO</th>\n",
              "      <th>WO Type</th>\n",
              "      <th>NC</th>\n",
              "      <th>Client Disc. Total</th>\n",
              "      <th>Client OAF Fee</th>\n",
              "      <th>Sent to Client Date</th>\n",
              "      <th>Invoice Status in Client portal</th>\n",
              "      <th>Remarks - At cost/client invoice status</th>\n",
              "      <th>WO in PPW</th>\n",
              "      <th>...</th>\n",
              "      <th>Who is Accountable?</th>\n",
              "      <th>Issue Catagory</th>\n",
              "      <th>Vnedor Qc Wk</th>\n",
              "      <th>QC'd By</th>\n",
              "      <th>Card Number / V. Payment Confirmation Number</th>\n",
              "      <th>Vendor Paid by</th>\n",
              "      <th>Transaction Date</th>\n",
              "      <th>PPW</th>\n",
              "      <th>Month</th>\n",
              "      <th>AP Days</th>\n",
              "    </tr>\n",
              "  </thead>\n",
              "  <tbody>\n",
              "    <tr>\n",
              "      <th>0</th>\n",
              "      <td>Debra Mayberry</td>\n",
              "      <td>T0030760741</td>\n",
              "      <td>Bid Approval</td>\n",
              "      <td>8925</td>\n",
              "      <td>6675.12</td>\n",
              "      <td>NaN</td>\n",
              "      <td>2023-12-28</td>\n",
              "      <td>NaN</td>\n",
              "      <td>NaN</td>\n",
              "      <td>T0030760741</td>\n",
              "      <td>...</td>\n",
              "      <td>NaN</td>\n",
              "      <td>NaN</td>\n",
              "      <td>1</td>\n",
              "      <td>Warner</td>\n",
              "      <td>471723258</td>\n",
              "      <td>Warner</td>\n",
              "      <td>2024-01-03</td>\n",
              "      <td>Evergreen</td>\n",
              "      <td>1</td>\n",
              "      <td>6</td>\n",
              "    </tr>\n",
              "    <tr>\n",
              "      <th>1</th>\n",
              "      <td>Debra Mayberry</td>\n",
              "      <td>NaN</td>\n",
              "      <td>NaN</td>\n",
              "      <td>NaN</td>\n",
              "      <td>NaN</td>\n",
              "      <td>NaN</td>\n",
              "      <td>2023-12-28</td>\n",
              "      <td>NaN</td>\n",
              "      <td>NaN</td>\n",
              "      <td>NaN</td>\n",
              "      <td>...</td>\n",
              "      <td>NaN</td>\n",
              "      <td>NaN</td>\n",
              "      <td>1</td>\n",
              "      <td>Warner</td>\n",
              "      <td>471723258</td>\n",
              "      <td>Warner</td>\n",
              "      <td>2024-01-03</td>\n",
              "      <td>Evergreen</td>\n",
              "      <td>1</td>\n",
              "      <td>6</td>\n",
              "    </tr>\n",
              "    <tr>\n",
              "      <th>2</th>\n",
              "      <td>Donnie Peden</td>\n",
              "      <td>T0030728153</td>\n",
              "      <td>Inspection</td>\n",
              "      <td>8925</td>\n",
              "      <td>18.00</td>\n",
              "      <td>NaN</td>\n",
              "      <td>2023-12-29</td>\n",
              "      <td>1.9 Stop Coded/Reassigned/WO not found/Cancell...</td>\n",
              "      <td>NaN</td>\n",
              "      <td>T0030728153</td>\n",
              "      <td>...</td>\n",
              "      <td>NaN</td>\n",
              "      <td>NaN</td>\n",
              "      <td>52</td>\n",
              "      <td>Warner</td>\n",
              "      <td>472425584</td>\n",
              "      <td>Warner</td>\n",
              "      <td>2024-01-08</td>\n",
              "      <td>Evergreen</td>\n",
              "      <td>1</td>\n",
              "      <td>10</td>\n",
              "    </tr>\n",
              "    <tr>\n",
              "      <th>3</th>\n",
              "      <td>Donnie Peden</td>\n",
              "      <td>T0030733165</td>\n",
              "      <td>Inspection</td>\n",
              "      <td>8925</td>\n",
              "      <td>18.00</td>\n",
              "      <td>NaN</td>\n",
              "      <td>2023-12-29</td>\n",
              "      <td>1.9 Stop Coded/Reassigned/WO not found/Cancell...</td>\n",
              "      <td>NaN</td>\n",
              "      <td>T0030733165</td>\n",
              "      <td>...</td>\n",
              "      <td>NaN</td>\n",
              "      <td>NaN</td>\n",
              "      <td>52</td>\n",
              "      <td>Warner</td>\n",
              "      <td>472425584</td>\n",
              "      <td>Warner</td>\n",
              "      <td>2024-01-08</td>\n",
              "      <td>Evergreen</td>\n",
              "      <td>1</td>\n",
              "      <td>10</td>\n",
              "    </tr>\n",
              "    <tr>\n",
              "      <th>4</th>\n",
              "      <td>Donnie Peden</td>\n",
              "      <td>T0030770609</td>\n",
              "      <td>Inspection</td>\n",
              "      <td>8925</td>\n",
              "      <td>18.00</td>\n",
              "      <td>NaN</td>\n",
              "      <td>2023-12-29</td>\n",
              "      <td>1.9 Stop Coded/Reassigned/WO not found/Cancell...</td>\n",
              "      <td>NaN</td>\n",
              "      <td>T0030770609</td>\n",
              "      <td>...</td>\n",
              "      <td>NaN</td>\n",
              "      <td>NaN</td>\n",
              "      <td>52</td>\n",
              "      <td>Warner</td>\n",
              "      <td>472425584</td>\n",
              "      <td>Warner</td>\n",
              "      <td>2024-01-08</td>\n",
              "      <td>Evergreen</td>\n",
              "      <td>1</td>\n",
              "      <td>10</td>\n",
              "    </tr>\n",
              "  </tbody>\n",
              "</table>\n",
              "<p>5 rows × 33 columns</p>\n",
              "</div>"
            ],
            "text/plain": [
              "       Contractor Client Invoice WO       WO Type    NC  Client Disc. Total  \\\n",
              "0  Debra Mayberry       T0030760741  Bid Approval  8925             6675.12   \n",
              "1  Debra Mayberry               NaN           NaN   NaN                 NaN   \n",
              "2    Donnie Peden       T0030728153    Inspection  8925               18.00   \n",
              "3    Donnie Peden       T0030733165    Inspection  8925               18.00   \n",
              "4    Donnie Peden       T0030770609    Inspection  8925               18.00   \n",
              "\n",
              "   Client OAF Fee Sent to Client Date  \\\n",
              "0             NaN          2023-12-28   \n",
              "1             NaN          2023-12-28   \n",
              "2             NaN          2023-12-29   \n",
              "3             NaN          2023-12-29   \n",
              "4             NaN          2023-12-29   \n",
              "\n",
              "                     Invoice Status in Client portal  \\\n",
              "0                                                NaN   \n",
              "1                                                NaN   \n",
              "2  1.9 Stop Coded/Reassigned/WO not found/Cancell...   \n",
              "3  1.9 Stop Coded/Reassigned/WO not found/Cancell...   \n",
              "4  1.9 Stop Coded/Reassigned/WO not found/Cancell...   \n",
              "\n",
              "  Remarks - At cost/client invoice status    WO in PPW  ...  \\\n",
              "0                                     NaN  T0030760741  ...   \n",
              "1                                     NaN          NaN  ...   \n",
              "2                                     NaN  T0030728153  ...   \n",
              "3                                     NaN  T0030733165  ...   \n",
              "4                                     NaN  T0030770609  ...   \n",
              "\n",
              "  Who is Accountable? Issue Catagory  Vnedor Qc Wk  QC'd By  \\\n",
              "0                 NaN            NaN             1   Warner   \n",
              "1                 NaN            NaN             1   Warner   \n",
              "2                 NaN            NaN            52   Warner   \n",
              "3                 NaN            NaN            52   Warner   \n",
              "4                 NaN            NaN            52   Warner   \n",
              "\n",
              "   Card Number / V. Payment Confirmation Number  Vendor Paid by  \\\n",
              "0                                     471723258          Warner   \n",
              "1                                     471723258          Warner   \n",
              "2                                     472425584          Warner   \n",
              "3                                     472425584          Warner   \n",
              "4                                     472425584          Warner   \n",
              "\n",
              "   Transaction Date        PPW Month AP Days  \n",
              "0        2024-01-03  Evergreen     1       6  \n",
              "1        2024-01-03  Evergreen     1       6  \n",
              "2        2024-01-08  Evergreen     1      10  \n",
              "3        2024-01-08  Evergreen     1      10  \n",
              "4        2024-01-08  Evergreen     1      10  \n",
              "\n",
              "[5 rows x 33 columns]"
            ]
          },
          "execution_count": 7,
          "metadata": {},
          "output_type": "execute_result"
        }
      ],
      "source": [
        "data=pd.read_excel('Vendor Pay History.xlsx')\n",
        "data.head(5)"
      ]
    },
    {
      "cell_type": "markdown",
      "id": "9aa100ba",
      "metadata": {
        "id": "9aa100ba"
      },
      "source": [
        "## check the number of columns and rows in the dataset"
      ]
    },
    {
      "cell_type": "code",
      "execution_count": null,
      "id": "6bdc4978",
      "metadata": {
        "id": "6bdc4978",
        "outputId": "0203fa8a-0a66-412c-a0df-c25f8079fd25"
      },
      "outputs": [
        {
          "data": {
            "text/plain": [
              "(3003, 33)"
            ]
          },
          "execution_count": 8,
          "metadata": {},
          "output_type": "execute_result"
        }
      ],
      "source": [
        "data.shape"
      ]
    },
    {
      "cell_type": "code",
      "execution_count": null,
      "id": "a61be98b",
      "metadata": {
        "id": "a61be98b",
        "outputId": "2ed5a2a8-5919-42ca-cfc9-803989fe31ec"
      },
      "outputs": [
        {
          "data": {
            "text/plain": [
              "Index(['Contractor', 'Client Invoice WO', 'WO Type', 'NC',\n",
              "       'Client Disc. Total', 'Client OAF Fee', 'Sent to Client Date',\n",
              "       'Invoice Status in Client portal',\n",
              "       'Remarks - At cost/client invoice status', 'WO in PPW',\n",
              "       'Address/ Details', 'State', 'Material Purchase / Remittance Amount',\n",
              "       'Primary Invoice', 'Adjustment Amount', 'Ontime/ Late Fee',\n",
              "       'Vendor OAF', 'Additional Approval', 'Late Status',\n",
              "       'Comments to Vendor / Fraudulance / Repetative issue', 'QC'd Status',\n",
              "       'V. OAF/ Addtl. Approved by', 'Saved Amount - V. Adjustment',\n",
              "       'Who is Accountable?', 'Issue Catagory', 'Vnedor Qc Wk', 'QC'd By',\n",
              "       'Card Number / V. Payment Confirmation Number', 'Vendor Paid by',\n",
              "       'Transaction Date', 'PPW', 'Month', 'AP Days'],\n",
              "      dtype='object')"
            ]
          },
          "execution_count": 9,
          "metadata": {},
          "output_type": "execute_result"
        }
      ],
      "source": [
        "data.columns"
      ]
    },
    {
      "cell_type": "markdown",
      "id": "741ea107",
      "metadata": {
        "id": "741ea107"
      },
      "source": [
        "## Drop the columns I don't need"
      ]
    },
    {
      "cell_type": "code",
      "execution_count": null,
      "id": "69f3da26",
      "metadata": {
        "id": "69f3da26"
      },
      "outputs": [],
      "source": [
        "data.drop(columns=['Client OAF Fee','Invoice Status in Client portal','Remarks - At cost/client invoice status',\\\n",
        "                   'Address/ Details','State',\\\n",
        "                  'Ontime/ Late Fee','Late Status','Comments to Vendor / Fraudulance / Repetative issue',\"QC'd Status\",\\\n",
        "                  'V. OAF/ Addtl. Approved by','Who is Accountable?','Issue Catagory',\\\n",
        "                  'Card Number / V. Payment Confirmation Number','Vendor Paid by',], inplace=True)"
      ]
    },
    {
      "cell_type": "code",
      "execution_count": null,
      "id": "32c000c0",
      "metadata": {
        "id": "32c000c0",
        "outputId": "8ab93177-00cb-4900-f721-74e0676f0212"
      },
      "outputs": [
        {
          "data": {
            "text/plain": [
              "Index(['Contractor', 'Client Invoice WO', 'WO Type', 'NC',\n",
              "       'Client Disc. Total', 'Sent to Client Date', 'WO in PPW',\n",
              "       'Material Purchase / Remittance Amount', 'Primary Invoice',\n",
              "       'Adjustment Amount', 'Vendor OAF', 'Additional Approval',\n",
              "       'Saved Amount - V. Adjustment', 'Vnedor Qc Wk', 'QC'd By',\n",
              "       'Transaction Date', 'PPW', 'Month', 'AP Days'],\n",
              "      dtype='object')"
            ]
          },
          "execution_count": 11,
          "metadata": {},
          "output_type": "execute_result"
        }
      ],
      "source": [
        "data.columns"
      ]
    },
    {
      "cell_type": "markdown",
      "id": "654e9d00",
      "metadata": {
        "id": "654e9d00"
      },
      "source": [
        "## Rename columns with suitable short names"
      ]
    },
    {
      "cell_type": "code",
      "execution_count": null,
      "id": "6e3467a1",
      "metadata": {
        "id": "6e3467a1"
      },
      "outputs": [],
      "source": [
        "data.rename(columns={'Client Invoice WO':'Client WO','Client Disc. Total':'Client Payment',\\\n",
        "                     'Material Purchase / Remittance Amount':'Vendor Payment',\\\n",
        "                     'Saved Amount - V. Adjustment':'Saved Amount','Vnedor Qc Wk':'QC week',\\\n",
        "                    \"QC'd By\":'Checked By'}, inplace=True)"
      ]
    },
    {
      "cell_type": "code",
      "execution_count": null,
      "id": "bd7e4eed",
      "metadata": {
        "id": "bd7e4eed",
        "outputId": "ff867093-f67c-4fb5-93a2-191e7cd8b0ad"
      },
      "outputs": [
        {
          "data": {
            "text/plain": [
              "Index(['Contractor', 'Client WO', 'WO Type', 'NC', 'Client Payment',\n",
              "       'Sent to Client Date', 'WO in PPW', 'Vendor Payment', 'Primary Invoice',\n",
              "       'Adjustment Amount', 'Vendor OAF', 'Additional Approval',\n",
              "       'Saved Amount', 'QC week', 'Checked By', 'Transaction Date', 'PPW',\n",
              "       'Month', 'AP Days'],\n",
              "      dtype='object')"
            ]
          },
          "execution_count": 14,
          "metadata": {},
          "output_type": "execute_result"
        }
      ],
      "source": [
        "data.columns"
      ]
    },
    {
      "cell_type": "markdown",
      "id": "c55862a5",
      "metadata": {
        "id": "c55862a5"
      },
      "source": [
        "## Delete the rows for which there is no WO(N/A) in the ppw"
      ]
    },
    {
      "cell_type": "code",
      "execution_count": null,
      "id": "aa652ea4",
      "metadata": {
        "id": "aa652ea4"
      },
      "outputs": [],
      "source": [
        "data.dropna(subset=['WO in PPW'], inplace=True)"
      ]
    },
    {
      "cell_type": "code",
      "execution_count": null,
      "id": "8c51d72b",
      "metadata": {
        "id": "8c51d72b",
        "outputId": "6cf0068b-2fdf-42e2-c1d1-779f22f4bbdf"
      },
      "outputs": [
        {
          "data": {
            "text/plain": [
              "(2972, 19)"
            ]
          },
          "execution_count": 16,
          "metadata": {},
          "output_type": "execute_result"
        }
      ],
      "source": [
        "data.shape"
      ]
    },
    {
      "cell_type": "code",
      "execution_count": null,
      "id": "55bb945a",
      "metadata": {
        "id": "55bb945a",
        "outputId": "6d220ee6-42af-4bfe-f0f2-d927d88a4a30"
      },
      "outputs": [
        {
          "data": {
            "text/html": [
              "<div>\n",
              "<style scoped>\n",
              "    .dataframe tbody tr th:only-of-type {\n",
              "        vertical-align: middle;\n",
              "    }\n",
              "\n",
              "    .dataframe tbody tr th {\n",
              "        vertical-align: top;\n",
              "    }\n",
              "\n",
              "    .dataframe thead th {\n",
              "        text-align: right;\n",
              "    }\n",
              "</style>\n",
              "<table border=\"1\" class=\"dataframe\">\n",
              "  <thead>\n",
              "    <tr style=\"text-align: right;\">\n",
              "      <th></th>\n",
              "      <th>Contractor</th>\n",
              "      <th>Client WO</th>\n",
              "      <th>WO Type</th>\n",
              "      <th>NC</th>\n",
              "      <th>Client Payment</th>\n",
              "      <th>Sent to Client Date</th>\n",
              "      <th>WO in PPW</th>\n",
              "      <th>Vendor Payment</th>\n",
              "      <th>Primary Invoice</th>\n",
              "      <th>Adjustment Amount</th>\n",
              "      <th>Vendor OAF</th>\n",
              "      <th>Additional Approval</th>\n",
              "      <th>Saved Amount</th>\n",
              "      <th>QC week</th>\n",
              "      <th>Checked By</th>\n",
              "      <th>Transaction Date</th>\n",
              "      <th>PPW</th>\n",
              "      <th>Month</th>\n",
              "      <th>AP Days</th>\n",
              "    </tr>\n",
              "  </thead>\n",
              "  <tbody>\n",
              "    <tr>\n",
              "      <th>0</th>\n",
              "      <td>Debra Mayberry</td>\n",
              "      <td>T0030760741</td>\n",
              "      <td>Bid Approval</td>\n",
              "      <td>8925</td>\n",
              "      <td>6675.12</td>\n",
              "      <td>2023-12-28</td>\n",
              "      <td>T0030760741</td>\n",
              "      <td>555.61</td>\n",
              "      <td>555.61</td>\n",
              "      <td>NaN</td>\n",
              "      <td>NaN</td>\n",
              "      <td>NaN</td>\n",
              "      <td>NaN</td>\n",
              "      <td>1</td>\n",
              "      <td>Warner</td>\n",
              "      <td>2024-01-03</td>\n",
              "      <td>Evergreen</td>\n",
              "      <td>1</td>\n",
              "      <td>6</td>\n",
              "    </tr>\n",
              "    <tr>\n",
              "      <th>2</th>\n",
              "      <td>Donnie Peden</td>\n",
              "      <td>T0030728153</td>\n",
              "      <td>Inspection</td>\n",
              "      <td>8925</td>\n",
              "      <td>18.00</td>\n",
              "      <td>2023-12-29</td>\n",
              "      <td>T0030728153</td>\n",
              "      <td>20.00</td>\n",
              "      <td>20.00</td>\n",
              "      <td>NaN</td>\n",
              "      <td>NaN</td>\n",
              "      <td>NaN</td>\n",
              "      <td>NaN</td>\n",
              "      <td>52</td>\n",
              "      <td>Warner</td>\n",
              "      <td>2024-01-08</td>\n",
              "      <td>Evergreen</td>\n",
              "      <td>1</td>\n",
              "      <td>10</td>\n",
              "    </tr>\n",
              "    <tr>\n",
              "      <th>3</th>\n",
              "      <td>Donnie Peden</td>\n",
              "      <td>T0030733165</td>\n",
              "      <td>Inspection</td>\n",
              "      <td>8925</td>\n",
              "      <td>18.00</td>\n",
              "      <td>2023-12-29</td>\n",
              "      <td>T0030733165</td>\n",
              "      <td>20.00</td>\n",
              "      <td>20.00</td>\n",
              "      <td>NaN</td>\n",
              "      <td>NaN</td>\n",
              "      <td>NaN</td>\n",
              "      <td>NaN</td>\n",
              "      <td>52</td>\n",
              "      <td>Warner</td>\n",
              "      <td>2024-01-08</td>\n",
              "      <td>Evergreen</td>\n",
              "      <td>1</td>\n",
              "      <td>10</td>\n",
              "    </tr>\n",
              "    <tr>\n",
              "      <th>4</th>\n",
              "      <td>Donnie Peden</td>\n",
              "      <td>T0030770609</td>\n",
              "      <td>Inspection</td>\n",
              "      <td>8925</td>\n",
              "      <td>18.00</td>\n",
              "      <td>2023-12-29</td>\n",
              "      <td>T0030770609</td>\n",
              "      <td>20.00</td>\n",
              "      <td>20.00</td>\n",
              "      <td>NaN</td>\n",
              "      <td>NaN</td>\n",
              "      <td>NaN</td>\n",
              "      <td>NaN</td>\n",
              "      <td>52</td>\n",
              "      <td>Warner</td>\n",
              "      <td>2024-01-08</td>\n",
              "      <td>Evergreen</td>\n",
              "      <td>1</td>\n",
              "      <td>10</td>\n",
              "    </tr>\n",
              "    <tr>\n",
              "      <th>5</th>\n",
              "      <td>Jerry Rhinehart</td>\n",
              "      <td>1061192897</td>\n",
              "      <td>Misc Work Type</td>\n",
              "      <td>8902</td>\n",
              "      <td>18.75</td>\n",
              "      <td>2023-12-30</td>\n",
              "      <td>1061192897</td>\n",
              "      <td>20.00</td>\n",
              "      <td>20.00</td>\n",
              "      <td>NaN</td>\n",
              "      <td>NaN</td>\n",
              "      <td>NaN</td>\n",
              "      <td>NaN</td>\n",
              "      <td>52</td>\n",
              "      <td>Warner</td>\n",
              "      <td>2024-01-08</td>\n",
              "      <td>Evergreen</td>\n",
              "      <td>1</td>\n",
              "      <td>9</td>\n",
              "    </tr>\n",
              "  </tbody>\n",
              "</table>\n",
              "</div>"
            ],
            "text/plain": [
              "        Contractor    Client WO         WO Type    NC  Client Payment  \\\n",
              "0   Debra Mayberry  T0030760741    Bid Approval  8925         6675.12   \n",
              "2     Donnie Peden  T0030728153      Inspection  8925           18.00   \n",
              "3     Donnie Peden  T0030733165      Inspection  8925           18.00   \n",
              "4     Donnie Peden  T0030770609      Inspection  8925           18.00   \n",
              "5  Jerry Rhinehart   1061192897  Misc Work Type  8902           18.75   \n",
              "\n",
              "  Sent to Client Date    WO in PPW  Vendor Payment  Primary Invoice  \\\n",
              "0          2023-12-28  T0030760741          555.61           555.61   \n",
              "2          2023-12-29  T0030728153           20.00            20.00   \n",
              "3          2023-12-29  T0030733165           20.00            20.00   \n",
              "4          2023-12-29  T0030770609           20.00            20.00   \n",
              "5          2023-12-30   1061192897           20.00            20.00   \n",
              "\n",
              "   Adjustment Amount  Vendor OAF  Additional Approval  Saved Amount  QC week  \\\n",
              "0                NaN         NaN                  NaN           NaN        1   \n",
              "2                NaN         NaN                  NaN           NaN       52   \n",
              "3                NaN         NaN                  NaN           NaN       52   \n",
              "4                NaN         NaN                  NaN           NaN       52   \n",
              "5                NaN         NaN                  NaN           NaN       52   \n",
              "\n",
              "  Checked By Transaction Date        PPW  Month  AP Days  \n",
              "0     Warner       2024-01-03  Evergreen      1        6  \n",
              "2     Warner       2024-01-08  Evergreen      1       10  \n",
              "3     Warner       2024-01-08  Evergreen      1       10  \n",
              "4     Warner       2024-01-08  Evergreen      1       10  \n",
              "5     Warner       2024-01-08  Evergreen      1        9  "
            ]
          },
          "execution_count": 18,
          "metadata": {},
          "output_type": "execute_result"
        }
      ],
      "source": [
        "data.head(5)"
      ]
    },
    {
      "cell_type": "markdown",
      "id": "62018a52",
      "metadata": {
        "id": "62018a52"
      },
      "source": [
        "## Save the dataset as csv"
      ]
    },
    {
      "cell_type": "code",
      "execution_count": null,
      "id": "047f8c30",
      "metadata": {
        "id": "047f8c30"
      },
      "outputs": [],
      "source": [
        "data.to_csv('Vendor Payment History.csv', index=False) #index is false to prevent saving row numbers as a column in the csv file"
      ]
    },
    {
      "cell_type": "markdown",
      "id": "aebfafcc",
      "metadata": {
        "id": "aebfafcc"
      },
      "source": [
        "## Load the csv file to see if that has been saved correctly"
      ]
    },
    {
      "cell_type": "code",
      "execution_count": null,
      "id": "62de1626",
      "metadata": {
        "id": "62de1626",
        "outputId": "27f454e7-8ae2-42bd-c321-5949d1e87bb6"
      },
      "outputs": [
        {
          "data": {
            "text/html": [
              "<div>\n",
              "<style scoped>\n",
              "    .dataframe tbody tr th:only-of-type {\n",
              "        vertical-align: middle;\n",
              "    }\n",
              "\n",
              "    .dataframe tbody tr th {\n",
              "        vertical-align: top;\n",
              "    }\n",
              "\n",
              "    .dataframe thead th {\n",
              "        text-align: right;\n",
              "    }\n",
              "</style>\n",
              "<table border=\"1\" class=\"dataframe\">\n",
              "  <thead>\n",
              "    <tr style=\"text-align: right;\">\n",
              "      <th></th>\n",
              "      <th>Contractor</th>\n",
              "      <th>Client WO</th>\n",
              "      <th>WO Type</th>\n",
              "      <th>NC</th>\n",
              "      <th>Client Payment</th>\n",
              "      <th>Sent to Client Date</th>\n",
              "      <th>WO in PPW</th>\n",
              "      <th>Vendor Payment</th>\n",
              "      <th>Primary Invoice</th>\n",
              "      <th>Adjustment Amount</th>\n",
              "      <th>Vendor OAF</th>\n",
              "      <th>Additional Approval</th>\n",
              "      <th>Saved Amount</th>\n",
              "      <th>QC week</th>\n",
              "      <th>Checked By</th>\n",
              "      <th>Transaction Date</th>\n",
              "      <th>PPW</th>\n",
              "      <th>Month</th>\n",
              "      <th>AP Days</th>\n",
              "    </tr>\n",
              "  </thead>\n",
              "  <tbody>\n",
              "    <tr>\n",
              "      <th>0</th>\n",
              "      <td>Debra Mayberry</td>\n",
              "      <td>T0030760741</td>\n",
              "      <td>Bid Approval</td>\n",
              "      <td>8925</td>\n",
              "      <td>6675.12</td>\n",
              "      <td>2023-12-28</td>\n",
              "      <td>T0030760741</td>\n",
              "      <td>555.61</td>\n",
              "      <td>555.61</td>\n",
              "      <td>NaN</td>\n",
              "      <td>NaN</td>\n",
              "      <td>NaN</td>\n",
              "      <td>NaN</td>\n",
              "      <td>1</td>\n",
              "      <td>Warner</td>\n",
              "      <td>2024-01-03</td>\n",
              "      <td>Evergreen</td>\n",
              "      <td>1</td>\n",
              "      <td>6</td>\n",
              "    </tr>\n",
              "    <tr>\n",
              "      <th>1</th>\n",
              "      <td>Donnie Peden</td>\n",
              "      <td>T0030728153</td>\n",
              "      <td>Inspection</td>\n",
              "      <td>8925</td>\n",
              "      <td>18.00</td>\n",
              "      <td>2023-12-29</td>\n",
              "      <td>T0030728153</td>\n",
              "      <td>20.00</td>\n",
              "      <td>20.00</td>\n",
              "      <td>NaN</td>\n",
              "      <td>NaN</td>\n",
              "      <td>NaN</td>\n",
              "      <td>NaN</td>\n",
              "      <td>52</td>\n",
              "      <td>Warner</td>\n",
              "      <td>2024-01-08</td>\n",
              "      <td>Evergreen</td>\n",
              "      <td>1</td>\n",
              "      <td>10</td>\n",
              "    </tr>\n",
              "    <tr>\n",
              "      <th>2</th>\n",
              "      <td>Donnie Peden</td>\n",
              "      <td>T0030733165</td>\n",
              "      <td>Inspection</td>\n",
              "      <td>8925</td>\n",
              "      <td>18.00</td>\n",
              "      <td>2023-12-29</td>\n",
              "      <td>T0030733165</td>\n",
              "      <td>20.00</td>\n",
              "      <td>20.00</td>\n",
              "      <td>NaN</td>\n",
              "      <td>NaN</td>\n",
              "      <td>NaN</td>\n",
              "      <td>NaN</td>\n",
              "      <td>52</td>\n",
              "      <td>Warner</td>\n",
              "      <td>2024-01-08</td>\n",
              "      <td>Evergreen</td>\n",
              "      <td>1</td>\n",
              "      <td>10</td>\n",
              "    </tr>\n",
              "    <tr>\n",
              "      <th>3</th>\n",
              "      <td>Donnie Peden</td>\n",
              "      <td>T0030770609</td>\n",
              "      <td>Inspection</td>\n",
              "      <td>8925</td>\n",
              "      <td>18.00</td>\n",
              "      <td>2023-12-29</td>\n",
              "      <td>T0030770609</td>\n",
              "      <td>20.00</td>\n",
              "      <td>20.00</td>\n",
              "      <td>NaN</td>\n",
              "      <td>NaN</td>\n",
              "      <td>NaN</td>\n",
              "      <td>NaN</td>\n",
              "      <td>52</td>\n",
              "      <td>Warner</td>\n",
              "      <td>2024-01-08</td>\n",
              "      <td>Evergreen</td>\n",
              "      <td>1</td>\n",
              "      <td>10</td>\n",
              "    </tr>\n",
              "    <tr>\n",
              "      <th>4</th>\n",
              "      <td>Jerry Rhinehart</td>\n",
              "      <td>1061192897</td>\n",
              "      <td>Misc Work Type</td>\n",
              "      <td>8902</td>\n",
              "      <td>18.75</td>\n",
              "      <td>2023-12-30</td>\n",
              "      <td>1061192897</td>\n",
              "      <td>20.00</td>\n",
              "      <td>20.00</td>\n",
              "      <td>NaN</td>\n",
              "      <td>NaN</td>\n",
              "      <td>NaN</td>\n",
              "      <td>NaN</td>\n",
              "      <td>52</td>\n",
              "      <td>Warner</td>\n",
              "      <td>2024-01-08</td>\n",
              "      <td>Evergreen</td>\n",
              "      <td>1</td>\n",
              "      <td>9</td>\n",
              "    </tr>\n",
              "  </tbody>\n",
              "</table>\n",
              "</div>"
            ],
            "text/plain": [
              "        Contractor    Client WO         WO Type    NC  Client Payment  \\\n",
              "0   Debra Mayberry  T0030760741    Bid Approval  8925         6675.12   \n",
              "1     Donnie Peden  T0030728153      Inspection  8925           18.00   \n",
              "2     Donnie Peden  T0030733165      Inspection  8925           18.00   \n",
              "3     Donnie Peden  T0030770609      Inspection  8925           18.00   \n",
              "4  Jerry Rhinehart   1061192897  Misc Work Type  8902           18.75   \n",
              "\n",
              "  Sent to Client Date    WO in PPW  Vendor Payment  Primary Invoice  \\\n",
              "0          2023-12-28  T0030760741          555.61           555.61   \n",
              "1          2023-12-29  T0030728153           20.00            20.00   \n",
              "2          2023-12-29  T0030733165           20.00            20.00   \n",
              "3          2023-12-29  T0030770609           20.00            20.00   \n",
              "4          2023-12-30   1061192897           20.00            20.00   \n",
              "\n",
              "   Adjustment Amount  Vendor OAF  Additional Approval  Saved Amount  QC week  \\\n",
              "0                NaN         NaN                  NaN           NaN        1   \n",
              "1                NaN         NaN                  NaN           NaN       52   \n",
              "2                NaN         NaN                  NaN           NaN       52   \n",
              "3                NaN         NaN                  NaN           NaN       52   \n",
              "4                NaN         NaN                  NaN           NaN       52   \n",
              "\n",
              "  Checked By Transaction Date        PPW  Month  AP Days  \n",
              "0     Warner       2024-01-03  Evergreen      1        6  \n",
              "1     Warner       2024-01-08  Evergreen      1       10  \n",
              "2     Warner       2024-01-08  Evergreen      1       10  \n",
              "3     Warner       2024-01-08  Evergreen      1       10  \n",
              "4     Warner       2024-01-08  Evergreen      1        9  "
            ]
          },
          "execution_count": 2,
          "metadata": {},
          "output_type": "execute_result"
        }
      ],
      "source": [
        "data_saved=pd.read_csv('Vendor Payment History.csv')\n",
        "data_saved.head()"
      ]
    },
    {
      "cell_type": "code",
      "execution_count": null,
      "id": "961173d3",
      "metadata": {
        "id": "961173d3"
      },
      "outputs": [],
      "source": [
        "data=data_saved"
      ]
    },
    {
      "cell_type": "markdown",
      "id": "5dfada99",
      "metadata": {
        "id": "5dfada99"
      },
      "source": [
        "## How many WOs have been checked by Cooper?"
      ]
    },
    {
      "cell_type": "code",
      "execution_count": null,
      "id": "10e4fb03",
      "metadata": {
        "id": "10e4fb03",
        "outputId": "fb41f496-5a8f-4142-9612-5ebd00d46f1e"
      },
      "outputs": [
        {
          "data": {
            "text/plain": [
              "(1910, 19)"
            ]
          },
          "execution_count": 4,
          "metadata": {},
          "output_type": "execute_result"
        }
      ],
      "source": [
        "data[data['Checked By']=='Cooper'].shape"
      ]
    },
    {
      "cell_type": "markdown",
      "id": "22f70a9f",
      "metadata": {
        "id": "22f70a9f"
      },
      "source": [
        "## Total sum of the vendor payment checked by Cooper"
      ]
    },
    {
      "cell_type": "code",
      "execution_count": null,
      "id": "03b38a3e",
      "metadata": {
        "id": "03b38a3e",
        "outputId": "d7d42285-c226-4473-ddcf-2377ca0ec455"
      },
      "outputs": [
        {
          "data": {
            "text/plain": [
              "235041.88"
            ]
          },
          "execution_count": 23,
          "metadata": {},
          "output_type": "execute_result"
        }
      ],
      "source": [
        "data[data['Checked By']=='Cooper']['Vendor Payment'].sum()"
      ]
    },
    {
      "cell_type": "markdown",
      "id": "585ac56c",
      "metadata": {
        "id": "585ac56c"
      },
      "source": [
        "## Average account payable(AP) for the vendors"
      ]
    },
    {
      "cell_type": "code",
      "execution_count": null,
      "id": "f88f4304",
      "metadata": {
        "id": "f88f4304",
        "outputId": "da776bb0-6584-4d6d-fc83-266928252487"
      },
      "outputs": [
        {
          "data": {
            "text/plain": [
              "12.543741588156124"
            ]
          },
          "execution_count": 24,
          "metadata": {},
          "output_type": "execute_result"
        }
      ],
      "source": [
        "data['AP Days'].mean()"
      ]
    },
    {
      "cell_type": "markdown",
      "id": "0cedc8c5",
      "metadata": {
        "id": "0cedc8c5"
      },
      "source": [
        "## Density plot of AP days for the vendors within the range of 0-50 days.\n",
        "## It is centered around 10-12 days which means most of the vendors are paid within 10-12\n",
        "## days on average"
      ]
    },
    {
      "cell_type": "code",
      "execution_count": null,
      "id": "e725391d",
      "metadata": {
        "id": "e725391d",
        "outputId": "aca0f80e-f118-4a50-b04c-6f76ed4ee7ae"
      },
      "outputs": [
        {
          "data": {
            "image/png": "[encoded data removed]",
            "text/plain": [
              "<Figure size 640x480 with 1 Axes>"
            ]
          },
          "metadata": {},
          "output_type": "display_data"
        }
      ],
      "source": [
        "sns.kdeplot(data['AP Days'], fill=True)\n",
        "plt.xlim(0,50);"
      ]
    },
    {
      "cell_type": "markdown",
      "id": "f7a2891f",
      "metadata": {
        "id": "f7a2891f"
      },
      "source": [
        "## For 80% of the WOs vendors are paid within 14 days."
      ]
    },
    {
      "cell_type": "code",
      "execution_count": null,
      "id": "86378ad7",
      "metadata": {
        "id": "86378ad7",
        "outputId": "56d1f1ac-d1b9-4a7f-cb78-37317adca4fb"
      },
      "outputs": [
        {
          "data": {
            "text/plain": [
              "14.0"
            ]
          },
          "execution_count": 36,
          "metadata": {},
          "output_type": "execute_result"
        }
      ],
      "source": [
        "data['AP Days'].quantile(0.80)"
      ]
    },
    {
      "cell_type": "markdown",
      "id": "e98381e9",
      "metadata": {
        "id": "e98381e9"
      },
      "source": [
        "## Find the frequency of the different types of WOs"
      ]
    },
    {
      "cell_type": "code",
      "execution_count": null,
      "id": "1dab6148",
      "metadata": {
        "id": "1dab6148",
        "outputId": "815ec23d-2943-424e-b5ea-82265a3450b2"
      },
      "outputs": [
        {
          "data": {
            "text/plain": [
              "Grass Recut                              937\n",
              "Bid Approval                             776\n",
              "Inspection                               187\n",
              "Bid Request                              182\n",
              "Initial Grass Cut                        171\n",
              "Initial Secure                           155\n",
              "Securing                                 140\n",
              "Misc Work Type                           102\n",
              "Exterior Maintenance                      56\n",
              "Winterization                             56\n",
              "Snow Removal                              54\n",
              "Initial Services                          30\n",
              "Maid Refresh                              25\n",
              "Eviction                                  17\n",
              "Code Violation Bid                        13\n",
              "Correction Work                           10\n",
              "Initial REO Service                        6\n",
              "Meet & Greet                               6\n",
              "Final Secure                               6\n",
              "Violation Bid                              5\n",
              "Initial Sales Clean                        5\n",
              "Re-Secure                                  4\n",
              "Rush Tenant                                4\n",
              "Re-winterization                           3\n",
              "EOB Request                                3\n",
              "Occupancy Check Inspection                 3\n",
              "Trash Out                                  2\n",
              "De-Winterization                           2\n",
              "Exterior Cleanup                           2\n",
              "Post Notice                                2\n",
              "HUD Inspection                             1\n",
              "Cash 4 Keys                                1\n",
              "Utilities                                  1\n",
              "Pressure Test                              1\n",
              "Snow Removal with Interior Inspection      1\n",
              "Turn/Rehab- Inspection                     1\n",
              "Name: WO Type, dtype: int64"
            ]
          },
          "execution_count": 5,
          "metadata": {},
          "output_type": "execute_result"
        }
      ],
      "source": [
        "data['WO Type'].value_counts()"
      ]
    },
    {
      "cell_type": "code",
      "execution_count": null,
      "id": "1813a2d1",
      "metadata": {
        "id": "1813a2d1",
        "outputId": "b94814b2-6215-4e2f-976e-3fd3d02c3ef7"
      },
      "outputs": [
        {
          "name": "stdout",
          "output_type": "stream",
          "text": [
            "<class 'pandas.core.frame.DataFrame'>\n",
            "RangeIndex: 2972 entries, 0 to 2971\n",
            "Data columns (total 19 columns):\n",
            " #   Column               Non-Null Count  Dtype  \n",
            "---  ------               --------------  -----  \n",
            " 0   Contractor           2972 non-null   object \n",
            " 1   Client WO            2971 non-null   object \n",
            " 2   WO Type              2970 non-null   object \n",
            " 3   NC                   2971 non-null   object \n",
            " 4   Client Payment       2954 non-null   float64\n",
            " 5   Sent to Client Date  2963 non-null   object \n",
            " 6   WO in PPW            2972 non-null   object \n",
            " 7   Vendor Payment       2972 non-null   float64\n",
            " 8   Primary Invoice      2972 non-null   float64\n",
            " 9   Adjustment Amount    74 non-null     float64\n",
            " 10  Vendor OAF           321 non-null    float64\n",
            " 11  Additional Approval  34 non-null     float64\n",
            " 12  Saved Amount         53 non-null     float64\n",
            " 13  QC week              2972 non-null   int64  \n",
            " 14  Checked By           2972 non-null   object \n",
            " 15  Transaction Date     2972 non-null   object \n",
            " 16  PPW                  2972 non-null   object \n",
            " 17  Month                2972 non-null   int64  \n",
            " 18  AP Days              2972 non-null   int64  \n",
            "dtypes: float64(7), int64(3), object(9)\n",
            "memory usage: 441.3+ KB\n"
          ]
        }
      ],
      "source": [
        "data.info()"
      ]
    },
    {
      "cell_type": "markdown",
      "id": "4b9eca4b",
      "metadata": {
        "id": "4b9eca4b"
      },
      "source": [
        "## Saved amount by Cooper, Anthony, and Warner"
      ]
    },
    {
      "cell_type": "code",
      "execution_count": null,
      "id": "eec7cf4c",
      "metadata": {
        "id": "eec7cf4c",
        "outputId": "7da8f0f2-c14d-4963-b9b6-4e2d9c1b7503"
      },
      "outputs": [
        {
          "data": {
            "text/plain": [
              "2234.5"
            ]
          },
          "execution_count": 10,
          "metadata": {},
          "output_type": "execute_result"
        }
      ],
      "source": [
        "data[data['Checked By']=='Cooper']['Saved Amount'].sum()"
      ]
    },
    {
      "cell_type": "code",
      "execution_count": null,
      "id": "b41baa7b",
      "metadata": {
        "id": "b41baa7b",
        "outputId": "ae081f3b-40fc-4d22-973d-4b92d317c941"
      },
      "outputs": [
        {
          "data": {
            "text/plain": [
              "30.0"
            ]
          },
          "execution_count": 11,
          "metadata": {},
          "output_type": "execute_result"
        }
      ],
      "source": [
        "data[data['Checked By']=='Anthony']['Saved Amount'].sum()"
      ]
    },
    {
      "cell_type": "code",
      "execution_count": null,
      "id": "977bf53c",
      "metadata": {
        "id": "977bf53c",
        "outputId": "4180881c-990d-4972-98b2-de7c8956fb28"
      },
      "outputs": [
        {
          "data": {
            "text/plain": [
              "1567.5"
            ]
          },
          "execution_count": 12,
          "metadata": {},
          "output_type": "execute_result"
        }
      ],
      "source": [
        "data[data['Checked By']=='Warner']['Saved Amount'].sum()"
      ]
    },
    {
      "cell_type": "markdown",
      "id": "fce16ccb",
      "metadata": {
        "id": "fce16ccb"
      },
      "source": [
        "## Change the \"sent to client date\" column in to datetime object"
      ]
    },
    {
      "cell_type": "code",
      "execution_count": null,
      "id": "5b45d8d3",
      "metadata": {
        "id": "5b45d8d3"
      },
      "outputs": [],
      "source": [
        "data['Sent to Client Date']=pd.to_datetime(data['Sent to Client Date'], format='%Y-%m-%d', errors='coerce')"
      ]
    },
    {
      "cell_type": "markdown",
      "id": "83737ee2",
      "metadata": {
        "id": "83737ee2"
      },
      "source": [
        "## We can also change multiple date columns in to datetime using the apply function"
      ]
    },
    {
      "cell_type": "code",
      "execution_count": null,
      "id": "0837e0b5",
      "metadata": {
        "id": "0837e0b5"
      },
      "outputs": [],
      "source": [
        "data[['Sent to Client Date','Transaction Date']]=data[['Sent to Client Date','Transaction Date']].\\\n",
        "                                                    apply(pd.to_datetime,format='%Y-%m-%d', errors='coerce')\n",
        ""
      ]
    },
    {
      "cell_type": "code",
      "execution_count": null,
      "id": "e200694b",
      "metadata": {
        "id": "e200694b",
        "outputId": "42fbc697-0806-4d21-f70e-4b1a55927c15"
      },
      "outputs": [
        {
          "data": {
            "text/html": [
              "<div>\n",
              "<style scoped>\n",
              "    .dataframe tbody tr th:only-of-type {\n",
              "        vertical-align: middle;\n",
              "    }\n",
              "\n",
              "    .dataframe tbody tr th {\n",
              "        vertical-align: top;\n",
              "    }\n",
              "\n",
              "    .dataframe thead th {\n",
              "        text-align: right;\n",
              "    }\n",
              "</style>\n",
              "<table border=\"1\" class=\"dataframe\">\n",
              "  <thead>\n",
              "    <tr style=\"text-align: right;\">\n",
              "      <th></th>\n",
              "      <th>Sent to Client Date</th>\n",
              "      <th>Transaction Date</th>\n",
              "    </tr>\n",
              "  </thead>\n",
              "  <tbody>\n",
              "    <tr>\n",
              "      <th>0</th>\n",
              "      <td>2023-12-28</td>\n",
              "      <td>2024-01-03</td>\n",
              "    </tr>\n",
              "    <tr>\n",
              "      <th>1</th>\n",
              "      <td>2023-12-29</td>\n",
              "      <td>2024-01-08</td>\n",
              "    </tr>\n",
              "    <tr>\n",
              "      <th>2</th>\n",
              "      <td>2023-12-29</td>\n",
              "      <td>2024-01-08</td>\n",
              "    </tr>\n",
              "    <tr>\n",
              "      <th>3</th>\n",
              "      <td>2023-12-29</td>\n",
              "      <td>2024-01-08</td>\n",
              "    </tr>\n",
              "    <tr>\n",
              "      <th>4</th>\n",
              "      <td>2023-12-30</td>\n",
              "      <td>2024-01-08</td>\n",
              "    </tr>\n",
              "  </tbody>\n",
              "</table>\n",
              "</div>"
            ],
            "text/plain": [
              "  Sent to Client Date Transaction Date\n",
              "0          2023-12-28       2024-01-03\n",
              "1          2023-12-29       2024-01-08\n",
              "2          2023-12-29       2024-01-08\n",
              "3          2023-12-29       2024-01-08\n",
              "4          2023-12-30       2024-01-08"
            ]
          },
          "execution_count": 15,
          "metadata": {},
          "output_type": "execute_result"
        }
      ],
      "source": [
        "data[['Sent to Client Date','Transaction Date']].head(5)"
      ]
    },
    {
      "cell_type": "markdown",
      "id": "89555a6d",
      "metadata": {
        "id": "89555a6d"
      },
      "source": [
        "## Get the number of WOs completed by each contractor/vendor"
      ]
    },
    {
      "cell_type": "code",
      "execution_count": null,
      "id": "565fb285",
      "metadata": {
        "id": "565fb285",
        "outputId": "58b7cc61-3078-45eb-8a1f-d4463e386970"
      },
      "outputs": [
        {
          "data": {
            "text/plain": [
              "Jerry Rhinehart      604\n",
              "Mark Howell          423\n",
              "David Brockington    185\n",
              "Steve Moody          154\n",
              "Frederick Davis      136\n",
              "Rasheed Hansford     115\n",
              "Charlie Fuller       111\n",
              "Mark Hinkle          108\n",
              "Ventera Spence       105\n",
              "Audra Claffey         79\n",
              "Name: Contractor, dtype: int64"
            ]
          },
          "execution_count": 17,
          "metadata": {},
          "output_type": "execute_result"
        }
      ],
      "source": [
        "data['Contractor'].value_counts().head(10) #showing only the first 10 contractor with the most WOs"
      ]
    },
    {
      "cell_type": "markdown",
      "id": "d27e19cb",
      "metadata": {
        "id": "d27e19cb"
      },
      "source": [
        "## Find the total amount of oaf provided to each vendor in descending order"
      ]
    },
    {
      "cell_type": "code",
      "execution_count": null,
      "id": "b0093ee2",
      "metadata": {
        "id": "b0093ee2",
        "outputId": "556032e4-4239-4b3e-90ac-dac149586e15"
      },
      "outputs": [
        {
          "data": {
            "text/html": [
              "<div>\n",
              "<style scoped>\n",
              "    .dataframe tbody tr th:only-of-type {\n",
              "        vertical-align: middle;\n",
              "    }\n",
              "\n",
              "    .dataframe tbody tr th {\n",
              "        vertical-align: top;\n",
              "    }\n",
              "\n",
              "    .dataframe thead th {\n",
              "        text-align: right;\n",
              "    }\n",
              "</style>\n",
              "<table border=\"1\" class=\"dataframe\">\n",
              "  <thead>\n",
              "    <tr style=\"text-align: right;\">\n",
              "      <th></th>\n",
              "      <th>Vendor OAF</th>\n",
              "    </tr>\n",
              "    <tr>\n",
              "      <th>Contractor</th>\n",
              "      <th></th>\n",
              "    </tr>\n",
              "  </thead>\n",
              "  <tbody>\n",
              "    <tr>\n",
              "      <th>Charlie Fuller</th>\n",
              "      <td>5838.0</td>\n",
              "    </tr>\n",
              "    <tr>\n",
              "      <th>Donnie Peden</th>\n",
              "      <td>2095.0</td>\n",
              "    </tr>\n",
              "    <tr>\n",
              "      <th>Steve Moody</th>\n",
              "      <td>1940.0</td>\n",
              "    </tr>\n",
              "    <tr>\n",
              "      <th>David Brockington</th>\n",
              "      <td>1590.0</td>\n",
              "    </tr>\n",
              "    <tr>\n",
              "      <th>Ventera Spence</th>\n",
              "      <td>1050.0</td>\n",
              "    </tr>\n",
              "    <tr>\n",
              "      <th>Frederick Davis</th>\n",
              "      <td>852.0</td>\n",
              "    </tr>\n",
              "    <tr>\n",
              "      <th>Nicholas Sangster</th>\n",
              "      <td>540.0</td>\n",
              "    </tr>\n",
              "    <tr>\n",
              "      <th>Jeff Scarpino</th>\n",
              "      <td>430.0</td>\n",
              "    </tr>\n",
              "    <tr>\n",
              "      <th>Alexander Buskirk</th>\n",
              "      <td>400.0</td>\n",
              "    </tr>\n",
              "    <tr>\n",
              "      <th>Scott Brown</th>\n",
              "      <td>370.0</td>\n",
              "    </tr>\n",
              "  </tbody>\n",
              "</table>\n",
              "</div>"
            ],
            "text/plain": [
              "                   Vendor OAF\n",
              "Contractor                   \n",
              "Charlie Fuller         5838.0\n",
              "Donnie Peden           2095.0\n",
              "Steve Moody            1940.0\n",
              "David Brockington      1590.0\n",
              "Ventera Spence         1050.0\n",
              "Frederick Davis         852.0\n",
              "Nicholas Sangster       540.0\n",
              "Jeff Scarpino           430.0\n",
              "Alexander Buskirk       400.0\n",
              "Scott Brown             370.0"
            ]
          },
          "execution_count": 18,
          "metadata": {},
          "output_type": "execute_result"
        }
      ],
      "source": [
        "data[['Vendor OAF']].groupby(data['Contractor']).sum().sort_values(['Vendor OAF'], ascending=False).head(10)"
      ]
    },
    {
      "cell_type": "markdown",
      "id": "c8ff04af",
      "metadata": {
        "id": "c8ff04af"
      },
      "source": [
        "## Find the average oaf or oaf per WO for each of the vendors"
      ]
    },
    {
      "cell_type": "code",
      "execution_count": null,
      "id": "407f2674",
      "metadata": {
        "id": "407f2674",
        "outputId": "eca63200-fb91-4ebe-dac3-50a1bf7b2fe1"
      },
      "outputs": [
        {
          "data": {
            "text/html": [
              "<div>\n",
              "<style scoped>\n",
              "    .dataframe tbody tr th:only-of-type {\n",
              "        vertical-align: middle;\n",
              "    }\n",
              "\n",
              "    .dataframe tbody tr th {\n",
              "        vertical-align: top;\n",
              "    }\n",
              "\n",
              "    .dataframe thead th {\n",
              "        text-align: right;\n",
              "    }\n",
              "</style>\n",
              "<table border=\"1\" class=\"dataframe\">\n",
              "  <thead>\n",
              "    <tr style=\"text-align: right;\">\n",
              "      <th></th>\n",
              "      <th>Vendor OAF</th>\n",
              "    </tr>\n",
              "    <tr>\n",
              "      <th>Contractor</th>\n",
              "      <th></th>\n",
              "    </tr>\n",
              "  </thead>\n",
              "  <tbody>\n",
              "    <tr>\n",
              "      <th>DAYURIS PENAFUERTE</th>\n",
              "      <td>200.000000</td>\n",
              "    </tr>\n",
              "    <tr>\n",
              "      <th>Tracy Ann Allen</th>\n",
              "      <td>160.000000</td>\n",
              "    </tr>\n",
              "    <tr>\n",
              "      <th>Donnie Peden</th>\n",
              "      <td>139.666667</td>\n",
              "    </tr>\n",
              "    <tr>\n",
              "      <th>Nicholas Sangster</th>\n",
              "      <td>135.000000</td>\n",
              "    </tr>\n",
              "    <tr>\n",
              "      <th>Dave Isley</th>\n",
              "      <td>100.000000</td>\n",
              "    </tr>\n",
              "    <tr>\n",
              "      <th>Robert Combs</th>\n",
              "      <td>100.000000</td>\n",
              "    </tr>\n",
              "    <tr>\n",
              "      <th>Paul Turner</th>\n",
              "      <td>80.000000</td>\n",
              "    </tr>\n",
              "    <tr>\n",
              "      <th>Paul Penley</th>\n",
              "      <td>80.000000</td>\n",
              "    </tr>\n",
              "    <tr>\n",
              "      <th>Jeff Scarpino</th>\n",
              "      <td>71.666667</td>\n",
              "    </tr>\n",
              "    <tr>\n",
              "      <th>Charlie Fuller</th>\n",
              "      <td>70.337349</td>\n",
              "    </tr>\n",
              "  </tbody>\n",
              "</table>\n",
              "</div>"
            ],
            "text/plain": [
              "                    Vendor OAF\n",
              "Contractor                    \n",
              "DAYURIS PENAFUERTE  200.000000\n",
              "Tracy Ann Allen     160.000000\n",
              "Donnie Peden        139.666667\n",
              "Nicholas Sangster   135.000000\n",
              "Dave Isley          100.000000\n",
              "Robert Combs        100.000000\n",
              "Paul Turner          80.000000\n",
              "Paul Penley          80.000000\n",
              "Jeff Scarpino        71.666667\n",
              "Charlie Fuller       70.337349"
            ]
          },
          "execution_count": 21,
          "metadata": {},
          "output_type": "execute_result"
        }
      ],
      "source": [
        "data[['Vendor OAF']].groupby(data['Contractor']).mean().sort_values(['Vendor OAF'], ascending=False).head(10)"
      ]
    },
    {
      "cell_type": "markdown",
      "id": "3487c647",
      "metadata": {
        "id": "3487c647"
      },
      "source": [
        "### But this does not seem right. Just look at the average oaf for Donnie Peden, it's staggering 139 per WO!!! something is wrong. First we can manually find out the actual average. We will find the total amount of oaf provided to donnie peden and the total number of WO he completed. Then simply divide total oaf by total WO. We will get the actual average."
      ]
    },
    {
      "cell_type": "code",
      "execution_count": null,
      "id": "efe76c44",
      "metadata": {
        "id": "efe76c44",
        "outputId": "bc89acff-6130-4074-88eb-f59ebe729620"
      },
      "outputs": [
        {
          "data": {
            "text/plain": [
              "62"
            ]
          },
          "execution_count": 25,
          "metadata": {},
          "output_type": "execute_result"
        }
      ],
      "source": [
        "data[data['Contractor']=='Donnie Peden'].shape[0] # number of total WO by donnie peden"
      ]
    },
    {
      "cell_type": "code",
      "execution_count": null,
      "id": "e90b2498",
      "metadata": {
        "id": "e90b2498",
        "outputId": "e3d86594-e8e2-48bc-c283-273030e6e35e"
      },
      "outputs": [
        {
          "data": {
            "text/plain": [
              "2095.0"
            ]
          },
          "execution_count": 26,
          "metadata": {},
          "output_type": "execute_result"
        }
      ],
      "source": [
        "data[data['Contractor']=='Donnie Peden']['Vendor OAF'].sum() # total oaf for donnie peden"
      ]
    },
    {
      "cell_type": "code",
      "execution_count": null,
      "id": "62d798df",
      "metadata": {
        "id": "62d798df",
        "outputId": "2c4cd409-02af-41c2-b55f-595f6036df04"
      },
      "outputs": [
        {
          "data": {
            "text/plain": [
              "33.79032258064516"
            ]
          },
          "execution_count": 27,
          "metadata": {},
          "output_type": "execute_result"
        }
      ],
      "source": [
        "2095/62 #average oaf for donnie peden"
      ]
    },
    {
      "cell_type": "markdown",
      "id": "9036b2ce",
      "metadata": {
        "id": "9036b2ce"
      },
      "source": [
        "### We can see actual average oaf for donnie peden is 33 not 139. So what went wrong? Actually the 'Vendor OAF' column contains a lot of N/A values for no input which are actually zero oaf for the vendors."
      ]
    },
    {
      "cell_type": "code",
      "execution_count": null,
      "id": "c02d41d4",
      "metadata": {
        "id": "c02d41d4",
        "outputId": "86dcb052-33e0-4fd5-f6e0-7ec7686822c9"
      },
      "outputs": [
        {
          "data": {
            "text/plain": [
              "2651"
            ]
          },
          "execution_count": 28,
          "metadata": {},
          "output_type": "execute_result"
        }
      ],
      "source": [
        "data['Vendor OAF'].isnull().sum() #total number of N/A values"
      ]
    },
    {
      "cell_type": "markdown",
      "id": "e11aee38",
      "metadata": {
        "id": "e11aee38"
      },
      "source": [
        "### We have to replace these N/A values with zero. Then finally we can calculate the true average oaf"
      ]
    },
    {
      "cell_type": "code",
      "execution_count": null,
      "id": "a2529f5d",
      "metadata": {
        "id": "a2529f5d",
        "outputId": "01dca63e-a1a9-4424-ece1-37dce81997a5"
      },
      "outputs": [
        {
          "data": {
            "text/plain": [
              "0"
            ]
          },
          "execution_count": 29,
          "metadata": {},
          "output_type": "execute_result"
        }
      ],
      "source": [
        "data['Vendor OAF'].fillna(0, inplace=True)\n",
        "data['Vendor OAF'].isnull().sum()"
      ]
    },
    {
      "cell_type": "markdown",
      "id": "fa34c9fb",
      "metadata": {
        "id": "fa34c9fb"
      },
      "source": [
        "### Now re-run the previous code again and see if it returns the actual average oaf now"
      ]
    },
    {
      "cell_type": "code",
      "execution_count": null,
      "id": "aecac65c",
      "metadata": {
        "id": "aecac65c",
        "outputId": "4684a22f-caad-4a0b-df63-b41be59270bd"
      },
      "outputs": [
        {
          "data": {
            "text/html": [
              "<div>\n",
              "<style scoped>\n",
              "    .dataframe tbody tr th:only-of-type {\n",
              "        vertical-align: middle;\n",
              "    }\n",
              "\n",
              "    .dataframe tbody tr th {\n",
              "        vertical-align: top;\n",
              "    }\n",
              "\n",
              "    .dataframe thead th {\n",
              "        text-align: right;\n",
              "    }\n",
              "</style>\n",
              "<table border=\"1\" class=\"dataframe\">\n",
              "  <thead>\n",
              "    <tr style=\"text-align: right;\">\n",
              "      <th></th>\n",
              "      <th>Vendor OAF</th>\n",
              "    </tr>\n",
              "    <tr>\n",
              "      <th>Contractor</th>\n",
              "      <th></th>\n",
              "    </tr>\n",
              "  </thead>\n",
              "  <tbody>\n",
              "    <tr>\n",
              "      <th>Tracy Ann Allen</th>\n",
              "      <td>160.000000</td>\n",
              "    </tr>\n",
              "    <tr>\n",
              "      <th>DAYURIS PENAFUERTE</th>\n",
              "      <td>100.000000</td>\n",
              "    </tr>\n",
              "    <tr>\n",
              "      <th>Robert Combs</th>\n",
              "      <td>100.000000</td>\n",
              "    </tr>\n",
              "    <tr>\n",
              "      <th>Charlie Fuller</th>\n",
              "      <td>52.594595</td>\n",
              "    </tr>\n",
              "    <tr>\n",
              "      <th>Nicholas Sangster</th>\n",
              "      <td>41.538462</td>\n",
              "    </tr>\n",
              "    <tr>\n",
              "      <th>Donnie Peden</th>\n",
              "      <td>33.790323</td>\n",
              "    </tr>\n",
              "    <tr>\n",
              "      <th>Jeff Scarpino</th>\n",
              "      <td>33.076923</td>\n",
              "    </tr>\n",
              "    <tr>\n",
              "      <th>Duwayney Loney</th>\n",
              "      <td>20.000000</td>\n",
              "    </tr>\n",
              "    <tr>\n",
              "      <th>Dave Isley</th>\n",
              "      <td>20.000000</td>\n",
              "    </tr>\n",
              "    <tr>\n",
              "      <th>Apollo Kigozi</th>\n",
              "      <td>13.333333</td>\n",
              "    </tr>\n",
              "  </tbody>\n",
              "</table>\n",
              "</div>"
            ],
            "text/plain": [
              "                    Vendor OAF\n",
              "Contractor                    \n",
              "Tracy Ann Allen     160.000000\n",
              "DAYURIS PENAFUERTE  100.000000\n",
              "Robert Combs        100.000000\n",
              "Charlie Fuller       52.594595\n",
              "Nicholas Sangster    41.538462\n",
              "Donnie Peden         33.790323\n",
              "Jeff Scarpino        33.076923\n",
              "Duwayney Loney       20.000000\n",
              "Dave Isley           20.000000\n",
              "Apollo Kigozi        13.333333"
            ]
          },
          "execution_count": 30,
          "metadata": {},
          "output_type": "execute_result"
        }
      ],
      "source": [
        "data[['Vendor OAF']].groupby(data['Contractor']).mean().sort_values(['Vendor OAF'], ascending=False).head(10)"
      ]
    },
    {
      "cell_type": "markdown",
      "id": "73db2e8f",
      "metadata": {
        "id": "73db2e8f"
      },
      "source": [
        "### yep! that's right."
      ]
    },
    {
      "cell_type": "markdown",
      "id": "1de37884",
      "metadata": {
        "id": "1de37884"
      },
      "source": [
        "### Replace/fill all the N/A values with zero for specific columns"
      ]
    },
    {
      "cell_type": "code",
      "execution_count": null,
      "id": "6ec9a54d",
      "metadata": {
        "id": "6ec9a54d"
      },
      "outputs": [],
      "source": [
        "data[['Client Payment','Vendor Payment','Adjustment Amount','Vendor OAF', 'Additional Approval',\n",
        "      'Saved Amount']]=data[['Client Payment','Vendor Payment','Adjustment Amount','Vendor OAF', 'Additional Approval',\n",
        "      'Saved Amount']].fillna(0)"
      ]
    },
    {
      "cell_type": "code",
      "execution_count": null,
      "id": "c2f6ac67",
      "metadata": {
        "id": "c2f6ac67",
        "outputId": "3d134cbd-f4be-4d90-ac2c-627f4ec98107"
      },
      "outputs": [
        {
          "data": {
            "text/plain": [
              "0"
            ]
          },
          "execution_count": 8,
          "metadata": {},
          "output_type": "execute_result"
        }
      ],
      "source": [
        "data['Vendor Payment'].isnull().sum()"
      ]
    },
    {
      "cell_type": "markdown",
      "id": "c3a28a73",
      "metadata": {
        "id": "c3a28a73"
      },
      "source": [
        "### The preprocessed data is saved in a csv file. Let's load this data"
      ]
    },
    {
      "cell_type": "code",
      "execution_count": null,
      "id": "7cc8aabc",
      "metadata": {
        "id": "7cc8aabc"
      },
      "outputs": [],
      "source": [
        "data=pd.read_csv('Vendor Payment Accounting Data.csv')"
      ]
    },
    {
      "cell_type": "code",
      "execution_count": null,
      "id": "2c456aa2",
      "metadata": {
        "id": "2c456aa2",
        "outputId": "9d89e145-38b7-4adc-bc21-feb09e8dabb9"
      },
      "outputs": [
        {
          "data": {
            "text/html": [
              "<div>\n",
              "<style scoped>\n",
              "    .dataframe tbody tr th:only-of-type {\n",
              "        vertical-align: middle;\n",
              "    }\n",
              "\n",
              "    .dataframe tbody tr th {\n",
              "        vertical-align: top;\n",
              "    }\n",
              "\n",
              "    .dataframe thead th {\n",
              "        text-align: right;\n",
              "    }\n",
              "</style>\n",
              "<table border=\"1\" class=\"dataframe\">\n",
              "  <thead>\n",
              "    <tr style=\"text-align: right;\">\n",
              "      <th></th>\n",
              "      <th>Contractor</th>\n",
              "      <th>Client WO</th>\n",
              "      <th>WO Type</th>\n",
              "      <th>NC</th>\n",
              "      <th>Client Payment</th>\n",
              "      <th>Sent to Client Date</th>\n",
              "      <th>WO in PPW</th>\n",
              "      <th>Vendor Payment</th>\n",
              "      <th>Primary Invoice</th>\n",
              "      <th>Adjustment Amount</th>\n",
              "      <th>Vendor OAF</th>\n",
              "      <th>Additional Approval</th>\n",
              "      <th>Saved Amount</th>\n",
              "      <th>QC week</th>\n",
              "      <th>Checked By</th>\n",
              "      <th>Transaction Date</th>\n",
              "      <th>PPW</th>\n",
              "      <th>Month</th>\n",
              "      <th>AP Days</th>\n",
              "    </tr>\n",
              "  </thead>\n",
              "  <tbody>\n",
              "    <tr>\n",
              "      <th>0</th>\n",
              "      <td>Debra Mayberry</td>\n",
              "      <td>T0030760741</td>\n",
              "      <td>Bid Approval</td>\n",
              "      <td>8925</td>\n",
              "      <td>6675.12</td>\n",
              "      <td>2023-12-28</td>\n",
              "      <td>T0030760741</td>\n",
              "      <td>555.61</td>\n",
              "      <td>555.61</td>\n",
              "      <td>0.0</td>\n",
              "      <td>0.0</td>\n",
              "      <td>0.0</td>\n",
              "      <td>0.0</td>\n",
              "      <td>1</td>\n",
              "      <td>Warner</td>\n",
              "      <td>2024-01-03</td>\n",
              "      <td>Evergreen</td>\n",
              "      <td>1</td>\n",
              "      <td>6</td>\n",
              "    </tr>\n",
              "    <tr>\n",
              "      <th>1</th>\n",
              "      <td>Donnie Peden</td>\n",
              "      <td>T0030728153</td>\n",
              "      <td>Inspection</td>\n",
              "      <td>8925</td>\n",
              "      <td>18.00</td>\n",
              "      <td>2023-12-29</td>\n",
              "      <td>T0030728153</td>\n",
              "      <td>20.00</td>\n",
              "      <td>20.00</td>\n",
              "      <td>0.0</td>\n",
              "      <td>0.0</td>\n",
              "      <td>0.0</td>\n",
              "      <td>0.0</td>\n",
              "      <td>52</td>\n",
              "      <td>Warner</td>\n",
              "      <td>2024-01-08</td>\n",
              "      <td>Evergreen</td>\n",
              "      <td>1</td>\n",
              "      <td>10</td>\n",
              "    </tr>\n",
              "    <tr>\n",
              "      <th>2</th>\n",
              "      <td>Donnie Peden</td>\n",
              "      <td>T0030733165</td>\n",
              "      <td>Inspection</td>\n",
              "      <td>8925</td>\n",
              "      <td>18.00</td>\n",
              "      <td>2023-12-29</td>\n",
              "      <td>T0030733165</td>\n",
              "      <td>20.00</td>\n",
              "      <td>20.00</td>\n",
              "      <td>0.0</td>\n",
              "      <td>0.0</td>\n",
              "      <td>0.0</td>\n",
              "      <td>0.0</td>\n",
              "      <td>52</td>\n",
              "      <td>Warner</td>\n",
              "      <td>2024-01-08</td>\n",
              "      <td>Evergreen</td>\n",
              "      <td>1</td>\n",
              "      <td>10</td>\n",
              "    </tr>\n",
              "    <tr>\n",
              "      <th>3</th>\n",
              "      <td>Donnie Peden</td>\n",
              "      <td>T0030770609</td>\n",
              "      <td>Inspection</td>\n",
              "      <td>8925</td>\n",
              "      <td>18.00</td>\n",
              "      <td>2023-12-29</td>\n",
              "      <td>T0030770609</td>\n",
              "      <td>20.00</td>\n",
              "      <td>20.00</td>\n",
              "      <td>0.0</td>\n",
              "      <td>0.0</td>\n",
              "      <td>0.0</td>\n",
              "      <td>0.0</td>\n",
              "      <td>52</td>\n",
              "      <td>Warner</td>\n",
              "      <td>2024-01-08</td>\n",
              "      <td>Evergreen</td>\n",
              "      <td>1</td>\n",
              "      <td>10</td>\n",
              "    </tr>\n",
              "    <tr>\n",
              "      <th>4</th>\n",
              "      <td>Jerry Rhinehart</td>\n",
              "      <td>1061192897</td>\n",
              "      <td>Misc Work Type</td>\n",
              "      <td>8902</td>\n",
              "      <td>18.75</td>\n",
              "      <td>2023-12-30</td>\n",
              "      <td>1061192897</td>\n",
              "      <td>20.00</td>\n",
              "      <td>20.00</td>\n",
              "      <td>0.0</td>\n",
              "      <td>0.0</td>\n",
              "      <td>0.0</td>\n",
              "      <td>0.0</td>\n",
              "      <td>52</td>\n",
              "      <td>Warner</td>\n",
              "      <td>2024-01-08</td>\n",
              "      <td>Evergreen</td>\n",
              "      <td>1</td>\n",
              "      <td>9</td>\n",
              "    </tr>\n",
              "  </tbody>\n",
              "</table>\n",
              "</div>"
            ],
            "text/plain": [
              "        Contractor    Client WO         WO Type    NC  Client Payment  \\\n",
              "0   Debra Mayberry  T0030760741    Bid Approval  8925         6675.12   \n",
              "1     Donnie Peden  T0030728153      Inspection  8925           18.00   \n",
              "2     Donnie Peden  T0030733165      Inspection  8925           18.00   \n",
              "3     Donnie Peden  T0030770609      Inspection  8925           18.00   \n",
              "4  Jerry Rhinehart   1061192897  Misc Work Type  8902           18.75   \n",
              "\n",
              "  Sent to Client Date    WO in PPW  Vendor Payment  Primary Invoice  \\\n",
              "0          2023-12-28  T0030760741          555.61           555.61   \n",
              "1          2023-12-29  T0030728153           20.00            20.00   \n",
              "2          2023-12-29  T0030733165           20.00            20.00   \n",
              "3          2023-12-29  T0030770609           20.00            20.00   \n",
              "4          2023-12-30   1061192897           20.00            20.00   \n",
              "\n",
              "   Adjustment Amount  Vendor OAF  Additional Approval  Saved Amount  QC week  \\\n",
              "0                0.0         0.0                  0.0           0.0        1   \n",
              "1                0.0         0.0                  0.0           0.0       52   \n",
              "2                0.0         0.0                  0.0           0.0       52   \n",
              "3                0.0         0.0                  0.0           0.0       52   \n",
              "4                0.0         0.0                  0.0           0.0       52   \n",
              "\n",
              "  Checked By Transaction Date        PPW  Month  AP Days  \n",
              "0     Warner       2024-01-03  Evergreen      1        6  \n",
              "1     Warner       2024-01-08  Evergreen      1       10  \n",
              "2     Warner       2024-01-08  Evergreen      1       10  \n",
              "3     Warner       2024-01-08  Evergreen      1       10  \n",
              "4     Warner       2024-01-08  Evergreen      1        9  "
            ]
          },
          "execution_count": 3,
          "metadata": {},
          "output_type": "execute_result"
        }
      ],
      "source": [
        "data.head(5)"
      ]
    },
    {
      "cell_type": "markdown",
      "id": "2ffb29fc",
      "metadata": {
        "id": "2ffb29fc"
      },
      "source": [
        "### Everytime we load the dataset, we need to convert the date columns into datetime for pandas"
      ]
    },
    {
      "cell_type": "code",
      "execution_count": null,
      "id": "dc6c7e10",
      "metadata": {
        "id": "dc6c7e10"
      },
      "outputs": [],
      "source": [
        "data[['Sent to Client Date','Transaction Date']]=data[['Sent to Client Date','Transaction Date']].\\\n",
        "                                                    apply(pd.to_datetime,format='%Y-%m-%d', errors='coerce')\n",
        ""
      ]
    },
    {
      "cell_type": "code",
      "execution_count": null,
      "id": "1bce588a",
      "metadata": {
        "scrolled": false,
        "id": "1bce588a",
        "outputId": "84274574-fb74-4cc9-9c7e-6cfc330a40f2"
      },
      "outputs": [
        {
          "name": "stdout",
          "output_type": "stream",
          "text": [
            "<class 'pandas.core.frame.DataFrame'>\n",
            "RangeIndex: 2972 entries, 0 to 2971\n",
            "Data columns (total 19 columns):\n",
            " #   Column               Non-Null Count  Dtype         \n",
            "---  ------               --------------  -----         \n",
            " 0   Contractor           2972 non-null   object        \n",
            " 1   Client WO            2971 non-null   object        \n",
            " 2   WO Type              2970 non-null   object        \n",
            " 3   NC                   2971 non-null   object        \n",
            " 4   Client Payment       2972 non-null   float64       \n",
            " 5   Sent to Client Date  2963 non-null   datetime64[ns]\n",
            " 6   WO in PPW            2972 non-null   object        \n",
            " 7   Vendor Payment       2972 non-null   float64       \n",
            " 8   Primary Invoice      2972 non-null   float64       \n",
            " 9   Adjustment Amount    2972 non-null   float64       \n",
            " 10  Vendor OAF           2972 non-null   float64       \n",
            " 11  Additional Approval  2972 non-null   float64       \n",
            " 12  Saved Amount         2972 non-null   float64       \n",
            " 13  QC week              2972 non-null   int64         \n",
            " 14  Checked By           2972 non-null   object        \n",
            " 15  Transaction Date     2972 non-null   datetime64[ns]\n",
            " 16  PPW                  2972 non-null   object        \n",
            " 17  Month                2972 non-null   int64         \n",
            " 18  AP Days              2972 non-null   int64         \n",
            "dtypes: datetime64[ns](2), float64(7), int64(3), object(7)\n",
            "memory usage: 441.3+ KB\n"
          ]
        }
      ],
      "source": [
        "data.info()"
      ]
    },
    {
      "cell_type": "code",
      "execution_count": null,
      "id": "e6aa1334",
      "metadata": {
        "scrolled": true,
        "id": "e6aa1334",
        "outputId": "d7813e7d-127a-48d8-cbf4-dd8af8fe6a54"
      },
      "outputs": [
        {
          "data": {
            "text/html": [
              "<div>\n",
              "<style scoped>\n",
              "    .dataframe tbody tr th:only-of-type {\n",
              "        vertical-align: middle;\n",
              "    }\n",
              "\n",
              "    .dataframe tbody tr th {\n",
              "        vertical-align: top;\n",
              "    }\n",
              "\n",
              "    .dataframe thead th {\n",
              "        text-align: right;\n",
              "    }\n",
              "</style>\n",
              "<table border=\"1\" class=\"dataframe\">\n",
              "  <thead>\n",
              "    <tr style=\"text-align: right;\">\n",
              "      <th></th>\n",
              "      <th>Client Payment</th>\n",
              "    </tr>\n",
              "    <tr>\n",
              "      <th>NC</th>\n",
              "      <th></th>\n",
              "    </tr>\n",
              "  </thead>\n",
              "  <tbody>\n",
              "    <tr>\n",
              "      <th>8925</th>\n",
              "      <td>449912.60</td>\n",
              "    </tr>\n",
              "    <tr>\n",
              "      <th>8902</th>\n",
              "      <td>93355.97</td>\n",
              "    </tr>\n",
              "    <tr>\n",
              "      <th>8922</th>\n",
              "      <td>77786.92</td>\n",
              "    </tr>\n",
              "    <tr>\n",
              "      <th>8935</th>\n",
              "      <td>18250.56</td>\n",
              "    </tr>\n",
              "    <tr>\n",
              "      <th>8916</th>\n",
              "      <td>11689.47</td>\n",
              "    </tr>\n",
              "    <tr>\n",
              "      <th>8919</th>\n",
              "      <td>6329.26</td>\n",
              "    </tr>\n",
              "    <tr>\n",
              "      <th>4425</th>\n",
              "      <td>6281.24</td>\n",
              "    </tr>\n",
              "    <tr>\n",
              "      <th>8913</th>\n",
              "      <td>6201.08</td>\n",
              "    </tr>\n",
              "    <tr>\n",
              "      <th>8903</th>\n",
              "      <td>4023.05</td>\n",
              "    </tr>\n",
              "    <tr>\n",
              "      <th>3125</th>\n",
              "      <td>1830.01</td>\n",
              "    </tr>\n",
              "  </tbody>\n",
              "</table>\n",
              "</div>"
            ],
            "text/plain": [
              "      Client Payment\n",
              "NC                  \n",
              "8925       449912.60\n",
              "8902        93355.97\n",
              "8922        77786.92\n",
              "8935        18250.56\n",
              "8916        11689.47\n",
              "8919         6329.26\n",
              "4425         6281.24\n",
              "8913         6201.08\n",
              "8903         4023.05\n",
              "3125         1830.01"
            ]
          },
          "execution_count": 16,
          "metadata": {},
          "output_type": "execute_result"
        }
      ],
      "source": [
        "#total client payment based on each client\n",
        "data[['Client Payment']].groupby(data['NC']).sum().sort_values(['Client Payment'], ascending=False).head(10)"
      ]
    },
    {
      "cell_type": "markdown",
      "id": "12725fca",
      "metadata": {
        "id": "12725fca"
      },
      "source": [
        "### Find the two top most vendors for each of the clients based on vendor payment. It's a little difficult though."
      ]
    },
    {
      "cell_type": "code",
      "execution_count": null,
      "id": "295b20db",
      "metadata": {
        "id": "295b20db"
      },
      "outputs": [],
      "source": [
        "#group by clients and vendors. NC stands for National Clients\n",
        "client_vendor_grouped=data.groupby(['NC','Contractor'], as_index=False)['Vendor Payment'].sum()"
      ]
    },
    {
      "cell_type": "code",
      "execution_count": null,
      "id": "7ff3443b",
      "metadata": {
        "id": "7ff3443b",
        "outputId": "eefdf16f-2dc1-48c4-beea-6c1d49950f01"
      },
      "outputs": [
        {
          "data": {
            "text/html": [
              "<div>\n",
              "<style scoped>\n",
              "    .dataframe tbody tr th:only-of-type {\n",
              "        vertical-align: middle;\n",
              "    }\n",
              "\n",
              "    .dataframe tbody tr th {\n",
              "        vertical-align: top;\n",
              "    }\n",
              "\n",
              "    .dataframe thead th {\n",
              "        text-align: right;\n",
              "    }\n",
              "</style>\n",
              "<table border=\"1\" class=\"dataframe\">\n",
              "  <thead>\n",
              "    <tr style=\"text-align: right;\">\n",
              "      <th></th>\n",
              "      <th>NC</th>\n",
              "      <th>Contractor</th>\n",
              "      <th>Vendor Payment</th>\n",
              "    </tr>\n",
              "  </thead>\n",
              "  <tbody>\n",
              "    <tr>\n",
              "      <th>0</th>\n",
              "      <td>3114</td>\n",
              "      <td>Tracy Ann Allen</td>\n",
              "      <td>810.0</td>\n",
              "    </tr>\n",
              "    <tr>\n",
              "      <th>1</th>\n",
              "      <td>3119</td>\n",
              "      <td>Paul Penley</td>\n",
              "      <td>20.0</td>\n",
              "    </tr>\n",
              "    <tr>\n",
              "      <th>2</th>\n",
              "      <td>3125</td>\n",
              "      <td>Paul Turner</td>\n",
              "      <td>220.0</td>\n",
              "    </tr>\n",
              "    <tr>\n",
              "      <th>3</th>\n",
              "      <td>3525</td>\n",
              "      <td>David Brockington</td>\n",
              "      <td>450.0</td>\n",
              "    </tr>\n",
              "    <tr>\n",
              "      <th>4</th>\n",
              "      <td>4402</td>\n",
              "      <td>Marvin Cooper</td>\n",
              "      <td>67.5</td>\n",
              "    </tr>\n",
              "  </tbody>\n",
              "</table>\n",
              "</div>"
            ],
            "text/plain": [
              "     NC         Contractor  Vendor Payment\n",
              "0  3114    Tracy Ann Allen           810.0\n",
              "1  3119        Paul Penley            20.0\n",
              "2  3125        Paul Turner           220.0\n",
              "3  3525  David Brockington           450.0\n",
              "4  4402      Marvin Cooper            67.5"
            ]
          },
          "execution_count": 21,
          "metadata": {},
          "output_type": "execute_result"
        }
      ],
      "source": [
        "client_vendor_grouped.head(5)"
      ]
    },
    {
      "cell_type": "code",
      "execution_count": null,
      "id": "a9caa51e",
      "metadata": {
        "id": "a9caa51e",
        "outputId": "2bed166c-926f-499a-f5f5-703e75cdba3c"
      },
      "outputs": [
        {
          "data": {
            "text/html": [
              "<div>\n",
              "<style scoped>\n",
              "    .dataframe tbody tr th:only-of-type {\n",
              "        vertical-align: middle;\n",
              "    }\n",
              "\n",
              "    .dataframe tbody tr th {\n",
              "        vertical-align: top;\n",
              "    }\n",
              "\n",
              "    .dataframe thead th {\n",
              "        text-align: right;\n",
              "    }\n",
              "</style>\n",
              "<table border=\"1\" class=\"dataframe\">\n",
              "  <thead>\n",
              "    <tr style=\"text-align: right;\">\n",
              "      <th></th>\n",
              "      <th>NC</th>\n",
              "      <th>Contractor</th>\n",
              "      <th>Vendor Payment</th>\n",
              "    </tr>\n",
              "  </thead>\n",
              "  <tbody>\n",
              "    <tr>\n",
              "      <th>164</th>\n",
              "      <td>CC78</td>\n",
              "      <td>Seth Broussard</td>\n",
              "      <td>794.0</td>\n",
              "    </tr>\n",
              "    <tr>\n",
              "      <th>163</th>\n",
              "      <td>CC31</td>\n",
              "      <td>Jerry Rhinehart</td>\n",
              "      <td>35.0</td>\n",
              "    </tr>\n",
              "    <tr>\n",
              "      <th>162</th>\n",
              "      <td>8942</td>\n",
              "      <td>Aliyah Dupree</td>\n",
              "      <td>390.0</td>\n",
              "    </tr>\n",
              "    <tr>\n",
              "      <th>161</th>\n",
              "      <td>8940</td>\n",
              "      <td>Seth Broussard</td>\n",
              "      <td>20.0</td>\n",
              "    </tr>\n",
              "    <tr>\n",
              "      <th>144</th>\n",
              "      <td>8935</td>\n",
              "      <td>Brandon Roussell</td>\n",
              "      <td>3371.5</td>\n",
              "    </tr>\n",
              "  </tbody>\n",
              "</table>\n",
              "</div>"
            ],
            "text/plain": [
              "       NC        Contractor  Vendor Payment\n",
              "164  CC78    Seth Broussard           794.0\n",
              "163  CC31   Jerry Rhinehart            35.0\n",
              "162  8942     Aliyah Dupree           390.0\n",
              "161  8940    Seth Broussard            20.0\n",
              "144  8935  Brandon Roussell          3371.5"
            ]
          },
          "execution_count": 32,
          "metadata": {},
          "output_type": "execute_result"
        }
      ],
      "source": [
        "# sort the grouped data. We need to sort the data by clients as well to maintain the serial of the clients\n",
        "# All the clients are sorted and also all the vendors in each client are sorted in descending order.\n",
        "sorted_data=client_vendor_grouped.sort_values(['NC','Vendor Payment'], ascending=[False,False])\n",
        "sorted_data.head(5)"
      ]
    },
    {
      "cell_type": "code",
      "execution_count": null,
      "id": "faa39a2f",
      "metadata": {
        "id": "faa39a2f"
      },
      "outputs": [],
      "source": [
        "# top 2 vendors for each client\n",
        "top_two=sorted_data.groupby(['NC']).head(2)"
      ]
    },
    {
      "cell_type": "code",
      "execution_count": null,
      "id": "367629a1",
      "metadata": {
        "id": "367629a1",
        "outputId": "7e5f1825-2f85-4200-f532-79c75567e296"
      },
      "outputs": [
        {
          "data": {
            "text/html": [
              "<div>\n",
              "<style scoped>\n",
              "    .dataframe tbody tr th:only-of-type {\n",
              "        vertical-align: middle;\n",
              "    }\n",
              "\n",
              "    .dataframe tbody tr th {\n",
              "        vertical-align: top;\n",
              "    }\n",
              "\n",
              "    .dataframe thead th {\n",
              "        text-align: right;\n",
              "    }\n",
              "</style>\n",
              "<table border=\"1\" class=\"dataframe\">\n",
              "  <thead>\n",
              "    <tr style=\"text-align: right;\">\n",
              "      <th></th>\n",
              "      <th>NC</th>\n",
              "      <th>Contractor</th>\n",
              "      <th>Vendor Payment</th>\n",
              "    </tr>\n",
              "  </thead>\n",
              "  <tbody>\n",
              "    <tr>\n",
              "      <th>164</th>\n",
              "      <td>CC78</td>\n",
              "      <td>Seth Broussard</td>\n",
              "      <td>794.00</td>\n",
              "    </tr>\n",
              "    <tr>\n",
              "      <th>163</th>\n",
              "      <td>CC31</td>\n",
              "      <td>Jerry Rhinehart</td>\n",
              "      <td>35.00</td>\n",
              "    </tr>\n",
              "    <tr>\n",
              "      <th>162</th>\n",
              "      <td>8942</td>\n",
              "      <td>Aliyah Dupree</td>\n",
              "      <td>390.00</td>\n",
              "    </tr>\n",
              "    <tr>\n",
              "      <th>161</th>\n",
              "      <td>8940</td>\n",
              "      <td>Seth Broussard</td>\n",
              "      <td>20.00</td>\n",
              "    </tr>\n",
              "    <tr>\n",
              "      <th>144</th>\n",
              "      <td>8935</td>\n",
              "      <td>Brandon Roussell</td>\n",
              "      <td>3371.50</td>\n",
              "    </tr>\n",
              "    <tr>\n",
              "      <th>154</th>\n",
              "      <td>8935</td>\n",
              "      <td>Rasheed Hansford</td>\n",
              "      <td>2316.00</td>\n",
              "    </tr>\n",
              "    <tr>\n",
              "      <th>125</th>\n",
              "      <td>8925</td>\n",
              "      <td>Mark Howell</td>\n",
              "      <td>50159.80</td>\n",
              "    </tr>\n",
              "    <tr>\n",
              "      <th>132</th>\n",
              "      <td>8925</td>\n",
              "      <td>Rasheed Hansford</td>\n",
              "      <td>24722.45</td>\n",
              "    </tr>\n",
              "    <tr>\n",
              "      <th>86</th>\n",
              "      <td>8922</td>\n",
              "      <td>Jerry Rhinehart</td>\n",
              "      <td>13888.20</td>\n",
              "    </tr>\n",
              "    <tr>\n",
              "      <th>88</th>\n",
              "      <td>8922</td>\n",
              "      <td>Joshua Snipes</td>\n",
              "      <td>9180.11</td>\n",
              "    </tr>\n",
              "    <tr>\n",
              "      <th>76</th>\n",
              "      <td>8919</td>\n",
              "      <td>Seth Broussard</td>\n",
              "      <td>725.00</td>\n",
              "    </tr>\n",
              "    <tr>\n",
              "      <th>68</th>\n",
              "      <td>8919</td>\n",
              "      <td>Chris Moore</td>\n",
              "      <td>702.50</td>\n",
              "    </tr>\n",
              "    <tr>\n",
              "      <th>65</th>\n",
              "      <td>8916</td>\n",
              "      <td>Samantha Poppiti</td>\n",
              "      <td>5517.00</td>\n",
              "    </tr>\n",
              "    <tr>\n",
              "      <th>59</th>\n",
              "      <td>8916</td>\n",
              "      <td>Apollo Kigozi</td>\n",
              "      <td>620.00</td>\n",
              "    </tr>\n",
              "    <tr>\n",
              "      <th>57</th>\n",
              "      <td>8913</td>\n",
              "      <td>Seth Broussard</td>\n",
              "      <td>1902.00</td>\n",
              "    </tr>\n",
              "    <tr>\n",
              "      <th>56</th>\n",
              "      <td>8913</td>\n",
              "      <td>Rasheed Hansford</td>\n",
              "      <td>1059.00</td>\n",
              "    </tr>\n",
              "    <tr>\n",
              "      <th>50</th>\n",
              "      <td>8908</td>\n",
              "      <td>Frederick Davis</td>\n",
              "      <td>382.50</td>\n",
              "    </tr>\n",
              "    <tr>\n",
              "      <th>51</th>\n",
              "      <td>8908</td>\n",
              "      <td>Jeff Scarpino</td>\n",
              "      <td>330.00</td>\n",
              "    </tr>\n",
              "    <tr>\n",
              "      <th>49</th>\n",
              "      <td>8905</td>\n",
              "      <td>Brandon Roussell</td>\n",
              "      <td>227.00</td>\n",
              "    </tr>\n",
              "    <tr>\n",
              "      <th>48</th>\n",
              "      <td>8903</td>\n",
              "      <td>Seth Broussard</td>\n",
              "      <td>1850.00</td>\n",
              "    </tr>\n",
              "    <tr>\n",
              "      <th>46</th>\n",
              "      <td>8903</td>\n",
              "      <td>Nicholas Sangster</td>\n",
              "      <td>1209.20</td>\n",
              "    </tr>\n",
              "    <tr>\n",
              "      <th>29</th>\n",
              "      <td>8902</td>\n",
              "      <td>Jerry Rhinehart</td>\n",
              "      <td>28799.00</td>\n",
              "    </tr>\n",
              "    <tr>\n",
              "      <th>19</th>\n",
              "      <td>8902</td>\n",
              "      <td>Charlie Fuller</td>\n",
              "      <td>16618.56</td>\n",
              "    </tr>\n",
              "    <tr>\n",
              "      <th>17</th>\n",
              "      <td>89-Misc</td>\n",
              "      <td>Alexander Buskirk</td>\n",
              "      <td>615.00</td>\n",
              "    </tr>\n",
              "    <tr>\n",
              "      <th>14</th>\n",
              "      <td>5225</td>\n",
              "      <td>Earl Cain</td>\n",
              "      <td>130.00</td>\n",
              "    </tr>\n",
              "    <tr>\n",
              "      <th>15</th>\n",
              "      <td>5225</td>\n",
              "      <td>Emmanuel Sosa</td>\n",
              "      <td>20.00</td>\n",
              "    </tr>\n",
              "    <tr>\n",
              "      <th>11</th>\n",
              "      <td>5219</td>\n",
              "      <td>Dotti Hulsey</td>\n",
              "      <td>401.00</td>\n",
              "    </tr>\n",
              "    <tr>\n",
              "      <th>12</th>\n",
              "      <td>5219</td>\n",
              "      <td>Jerry Rhinehart</td>\n",
              "      <td>155.00</td>\n",
              "    </tr>\n",
              "    <tr>\n",
              "      <th>6</th>\n",
              "      <td>4425</td>\n",
              "      <td>Mark Hinkle</td>\n",
              "      <td>2952.50</td>\n",
              "    </tr>\n",
              "    <tr>\n",
              "      <th>10</th>\n",
              "      <td>4425</td>\n",
              "      <td>Vance Cobb</td>\n",
              "      <td>1347.50</td>\n",
              "    </tr>\n",
              "    <tr>\n",
              "      <th>4</th>\n",
              "      <td>4402</td>\n",
              "      <td>Marvin Cooper</td>\n",
              "      <td>67.50</td>\n",
              "    </tr>\n",
              "    <tr>\n",
              "      <th>3</th>\n",
              "      <td>3525</td>\n",
              "      <td>David Brockington</td>\n",
              "      <td>450.00</td>\n",
              "    </tr>\n",
              "    <tr>\n",
              "      <th>2</th>\n",
              "      <td>3125</td>\n",
              "      <td>Paul Turner</td>\n",
              "      <td>220.00</td>\n",
              "    </tr>\n",
              "    <tr>\n",
              "      <th>1</th>\n",
              "      <td>3119</td>\n",
              "      <td>Paul Penley</td>\n",
              "      <td>20.00</td>\n",
              "    </tr>\n",
              "    <tr>\n",
              "      <th>0</th>\n",
              "      <td>3114</td>\n",
              "      <td>Tracy Ann Allen</td>\n",
              "      <td>810.00</td>\n",
              "    </tr>\n",
              "  </tbody>\n",
              "</table>\n",
              "</div>"
            ],
            "text/plain": [
              "          NC         Contractor  Vendor Payment\n",
              "164     CC78     Seth Broussard          794.00\n",
              "163     CC31    Jerry Rhinehart           35.00\n",
              "162     8942      Aliyah Dupree          390.00\n",
              "161     8940     Seth Broussard           20.00\n",
              "144     8935   Brandon Roussell         3371.50\n",
              "154     8935   Rasheed Hansford         2316.00\n",
              "125     8925        Mark Howell        50159.80\n",
              "132     8925   Rasheed Hansford        24722.45\n",
              "86      8922    Jerry Rhinehart        13888.20\n",
              "88      8922      Joshua Snipes         9180.11\n",
              "76      8919     Seth Broussard          725.00\n",
              "68      8919        Chris Moore          702.50\n",
              "65      8916   Samantha Poppiti         5517.00\n",
              "59      8916      Apollo Kigozi          620.00\n",
              "57      8913     Seth Broussard         1902.00\n",
              "56      8913   Rasheed Hansford         1059.00\n",
              "50      8908    Frederick Davis          382.50\n",
              "51      8908      Jeff Scarpino          330.00\n",
              "49      8905   Brandon Roussell          227.00\n",
              "48      8903     Seth Broussard         1850.00\n",
              "46      8903  Nicholas Sangster         1209.20\n",
              "29      8902    Jerry Rhinehart        28799.00\n",
              "19      8902     Charlie Fuller        16618.56\n",
              "17   89-Misc  Alexander Buskirk          615.00\n",
              "14      5225          Earl Cain          130.00\n",
              "15      5225      Emmanuel Sosa           20.00\n",
              "11      5219       Dotti Hulsey          401.00\n",
              "12      5219    Jerry Rhinehart          155.00\n",
              "6       4425        Mark Hinkle         2952.50\n",
              "10      4425         Vance Cobb         1347.50\n",
              "4       4402      Marvin Cooper           67.50\n",
              "3       3525  David Brockington          450.00\n",
              "2       3125        Paul Turner          220.00\n",
              "1       3119        Paul Penley           20.00\n",
              "0       3114    Tracy Ann Allen          810.00"
            ]
          },
          "execution_count": 31,
          "metadata": {},
          "output_type": "execute_result"
        }
      ],
      "source": [
        "top_two"
      ]
    },
    {
      "cell_type": "markdown",
      "id": "a0fab908",
      "metadata": {
        "id": "a0fab908"
      },
      "source": [
        "### Top 10 vendors with highest payment per WO"
      ]
    },
    {
      "cell_type": "code",
      "execution_count": null,
      "id": "c97f3a8e",
      "metadata": {
        "id": "c97f3a8e",
        "outputId": "9e3bf4db-a05e-4454-9c72-9a4411d4579c"
      },
      "outputs": [
        {
          "data": {
            "text/html": [
              "<div>\n",
              "<style scoped>\n",
              "    .dataframe tbody tr th:only-of-type {\n",
              "        vertical-align: middle;\n",
              "    }\n",
              "\n",
              "    .dataframe tbody tr th {\n",
              "        vertical-align: top;\n",
              "    }\n",
              "\n",
              "    .dataframe thead th {\n",
              "        text-align: right;\n",
              "    }\n",
              "</style>\n",
              "<table border=\"1\" class=\"dataframe\">\n",
              "  <thead>\n",
              "    <tr style=\"text-align: right;\">\n",
              "      <th></th>\n",
              "      <th>Vendor Payment</th>\n",
              "    </tr>\n",
              "    <tr>\n",
              "      <th>Contractor</th>\n",
              "      <th></th>\n",
              "    </tr>\n",
              "  </thead>\n",
              "  <tbody>\n",
              "    <tr>\n",
              "      <th>Samantha Poppiti</th>\n",
              "      <td>1906.000000</td>\n",
              "    </tr>\n",
              "    <tr>\n",
              "      <th>Tracy Ann Allen</th>\n",
              "      <td>810.000000</td>\n",
              "    </tr>\n",
              "    <tr>\n",
              "      <th>Joshua Snipes</th>\n",
              "      <td>726.854615</td>\n",
              "    </tr>\n",
              "    <tr>\n",
              "      <th>Debra Mayberry</th>\n",
              "      <td>555.610000</td>\n",
              "    </tr>\n",
              "    <tr>\n",
              "      <th>Vance Cobb</th>\n",
              "      <td>449.166667</td>\n",
              "    </tr>\n",
              "    <tr>\n",
              "      <th>3P-CANDID HOME INSPECTIONS LLC</th>\n",
              "      <td>435.000000</td>\n",
              "    </tr>\n",
              "    <tr>\n",
              "      <th>3P-J G Carpentry</th>\n",
              "      <td>362.500000</td>\n",
              "    </tr>\n",
              "    <tr>\n",
              "      <th>Jp handyman srv</th>\n",
              "      <td>350.000000</td>\n",
              "    </tr>\n",
              "    <tr>\n",
              "      <th>Robert Combs</th>\n",
              "      <td>311.000000</td>\n",
              "    </tr>\n",
              "    <tr>\n",
              "      <th>Terrance Reed</th>\n",
              "      <td>300.000000</td>\n",
              "    </tr>\n",
              "  </tbody>\n",
              "</table>\n",
              "</div>"
            ],
            "text/plain": [
              "                                Vendor Payment\n",
              "Contractor                                    \n",
              "Samantha Poppiti                   1906.000000\n",
              "Tracy Ann Allen                     810.000000\n",
              "Joshua Snipes                       726.854615\n",
              "Debra Mayberry                      555.610000\n",
              "Vance Cobb                          449.166667\n",
              "3P-CANDID HOME INSPECTIONS LLC      435.000000\n",
              "3P-J G Carpentry                    362.500000\n",
              "Jp handyman srv                     350.000000\n",
              "Robert Combs                        311.000000\n",
              "Terrance Reed                       300.000000"
            ]
          },
          "execution_count": 34,
          "metadata": {},
          "output_type": "execute_result"
        }
      ],
      "source": [
        "data.groupby(['Contractor'])[['Vendor Payment']].mean().sort_values(['Vendor Payment'], ascending=False).head(10)"
      ]
    },
    {
      "cell_type": "markdown",
      "id": "b858901f",
      "metadata": {
        "id": "b858901f"
      },
      "source": [
        "### Look at the WOs of the highest average paid vendor \"Samantha Poppiti\""
      ]
    },
    {
      "cell_type": "code",
      "execution_count": null,
      "id": "f417fc6e",
      "metadata": {
        "id": "f417fc6e",
        "outputId": "24fee284-04a3-4697-e7f0-fbe1a402cc19"
      },
      "outputs": [
        {
          "data": {
            "text/html": [
              "<div>\n",
              "<style scoped>\n",
              "    .dataframe tbody tr th:only-of-type {\n",
              "        vertical-align: middle;\n",
              "    }\n",
              "\n",
              "    .dataframe tbody tr th {\n",
              "        vertical-align: top;\n",
              "    }\n",
              "\n",
              "    .dataframe thead th {\n",
              "        text-align: right;\n",
              "    }\n",
              "</style>\n",
              "<table border=\"1\" class=\"dataframe\">\n",
              "  <thead>\n",
              "    <tr style=\"text-align: right;\">\n",
              "      <th></th>\n",
              "      <th>Contractor</th>\n",
              "      <th>Client WO</th>\n",
              "      <th>WO Type</th>\n",
              "      <th>NC</th>\n",
              "      <th>Client Payment</th>\n",
              "      <th>Sent to Client Date</th>\n",
              "      <th>WO in PPW</th>\n",
              "      <th>Vendor Payment</th>\n",
              "      <th>Primary Invoice</th>\n",
              "      <th>Adjustment Amount</th>\n",
              "      <th>Vendor OAF</th>\n",
              "      <th>Additional Approval</th>\n",
              "      <th>Saved Amount</th>\n",
              "      <th>QC week</th>\n",
              "      <th>Checked By</th>\n",
              "      <th>Transaction Date</th>\n",
              "      <th>PPW</th>\n",
              "      <th>Month</th>\n",
              "      <th>AP Days</th>\n",
              "    </tr>\n",
              "  </thead>\n",
              "  <tbody>\n",
              "    <tr>\n",
              "      <th>2129</th>\n",
              "      <td>Samantha Poppiti</td>\n",
              "      <td>463408645-LO</td>\n",
              "      <td>Eviction</td>\n",
              "      <td>8916</td>\n",
              "      <td>2240.0</td>\n",
              "      <td>2024-07-05</td>\n",
              "      <td>463408645-LO</td>\n",
              "      <td>1535.0</td>\n",
              "      <td>1535.0</td>\n",
              "      <td>0.0</td>\n",
              "      <td>0.0</td>\n",
              "      <td>0.0</td>\n",
              "      <td>0.0</td>\n",
              "      <td>27</td>\n",
              "      <td>Cooper</td>\n",
              "      <td>2024-07-09</td>\n",
              "      <td>Evergreen</td>\n",
              "      <td>7</td>\n",
              "      <td>4</td>\n",
              "    </tr>\n",
              "    <tr>\n",
              "      <th>2652</th>\n",
              "      <td>Samantha Poppiti</td>\n",
              "      <td>29757</td>\n",
              "      <td>Inspection</td>\n",
              "      <td>8935</td>\n",
              "      <td>328.0</td>\n",
              "      <td>2024-08-09</td>\n",
              "      <td>29757</td>\n",
              "      <td>201.0</td>\n",
              "      <td>201.0</td>\n",
              "      <td>0.0</td>\n",
              "      <td>0.0</td>\n",
              "      <td>50.0</td>\n",
              "      <td>0.0</td>\n",
              "      <td>32</td>\n",
              "      <td>Cooper</td>\n",
              "      <td>2024-08-19</td>\n",
              "      <td>Evergreen</td>\n",
              "      <td>8</td>\n",
              "      <td>10</td>\n",
              "    </tr>\n",
              "    <tr>\n",
              "      <th>2793</th>\n",
              "      <td>Samantha Poppiti</td>\n",
              "      <td>463364287-LOA</td>\n",
              "      <td>Eviction</td>\n",
              "      <td>8916</td>\n",
              "      <td>5510.0</td>\n",
              "      <td>2024-08-16</td>\n",
              "      <td>463364287-LOA</td>\n",
              "      <td>3982.0</td>\n",
              "      <td>3982.0</td>\n",
              "      <td>0.0</td>\n",
              "      <td>0.0</td>\n",
              "      <td>0.0</td>\n",
              "      <td>0.0</td>\n",
              "      <td>34</td>\n",
              "      <td>Cooper</td>\n",
              "      <td>2024-09-04</td>\n",
              "      <td>Evergreen</td>\n",
              "      <td>9</td>\n",
              "      <td>19</td>\n",
              "    </tr>\n",
              "  </tbody>\n",
              "</table>\n",
              "</div>"
            ],
            "text/plain": [
              "            Contractor      Client WO     WO Type    NC  Client Payment  \\\n",
              "2129  Samantha Poppiti   463408645-LO    Eviction  8916          2240.0   \n",
              "2652  Samantha Poppiti          29757  Inspection  8935           328.0   \n",
              "2793  Samantha Poppiti  463364287-LOA    Eviction  8916          5510.0   \n",
              "\n",
              "     Sent to Client Date      WO in PPW  Vendor Payment  Primary Invoice  \\\n",
              "2129          2024-07-05   463408645-LO          1535.0           1535.0   \n",
              "2652          2024-08-09          29757           201.0            201.0   \n",
              "2793          2024-08-16  463364287-LOA          3982.0           3982.0   \n",
              "\n",
              "      Adjustment Amount  Vendor OAF  Additional Approval  Saved Amount  \\\n",
              "2129                0.0         0.0                  0.0           0.0   \n",
              "2652                0.0         0.0                 50.0           0.0   \n",
              "2793                0.0         0.0                  0.0           0.0   \n",
              "\n",
              "      QC week Checked By Transaction Date        PPW  Month  AP Days  \n",
              "2129       27     Cooper       2024-07-09  Evergreen      7        4  \n",
              "2652       32     Cooper       2024-08-19  Evergreen      8       10  \n",
              "2793       34     Cooper       2024-09-04  Evergreen      9       19  "
            ]
          },
          "execution_count": 35,
          "metadata": {},
          "output_type": "execute_result"
        }
      ],
      "source": [
        "data[data['Contractor']=='Samantha Poppiti']"
      ]
    },
    {
      "cell_type": "markdown",
      "id": "910e1823",
      "metadata": {
        "id": "910e1823"
      },
      "source": [
        "## Time series analysis\n",
        "### Plot the monthly client payment"
      ]
    },
    {
      "cell_type": "code",
      "execution_count": null,
      "id": "5191aae1",
      "metadata": {
        "id": "5191aae1"
      },
      "outputs": [],
      "source": [
        "#setting the date as the index, a standard practice for time series analysis\n",
        "data.set_index('Sent to Client Date', inplace=True)"
      ]
    },
    {
      "cell_type": "code",
      "execution_count": null,
      "id": "a38faecb",
      "metadata": {
        "id": "a38faecb"
      },
      "outputs": [],
      "source": [
        "#sort the dataset by date order so all the WOs are in an ascending order of date\n",
        "data.sort_index(inplace=True)"
      ]
    },
    {
      "cell_type": "code",
      "execution_count": null,
      "id": "3a32c956",
      "metadata": {
        "id": "3a32c956"
      },
      "outputs": [],
      "source": [
        "#monthly client payment data\n",
        "monthly_client_payment=data['Client Payment'].resample('M').sum()"
      ]
    },
    {
      "cell_type": "code",
      "execution_count": null,
      "id": "a45c41cf",
      "metadata": {
        "id": "a45c41cf",
        "outputId": "b0ef0041-bd10-4f1a-9ba3-1720a9a55717"
      },
      "outputs": [
        {
          "data": {
            "image/png": "[encoded data removed]",
            "text/plain": [
              "<Figure size 640x480 with 1 Axes>"
            ]
          },
          "metadata": {},
          "output_type": "display_data"
        }
      ],
      "source": [
        "#plot the monthly time series data for client payment\n",
        "plt.plot(monthly_client_payment)\n",
        "plt.title('Monthly Client Payments Over Time')\n",
        "plt.xlabel('Date')\n",
        "plt.ylabel('Client Payment')\n",
        "plt.grid(True);"
      ]
    },
    {
      "cell_type": "markdown",
      "id": "bf0d90de",
      "metadata": {
        "id": "bf0d90de"
      },
      "source": [
        "### Moving or rolling average"
      ]
    },
    {
      "cell_type": "code",
      "execution_count": null,
      "id": "b5ff877a",
      "metadata": {
        "id": "b5ff877a"
      },
      "outputs": [],
      "source": [
        "moving_avg=monthly_client_payment.rolling(window=3).mean()"
      ]
    },
    {
      "cell_type": "code",
      "execution_count": null,
      "id": "ff11cef6",
      "metadata": {
        "id": "ff11cef6",
        "outputId": "9063d469-1ce5-4fe2-b8cd-f0b5a784a576"
      },
      "outputs": [
        {
          "data": {
            "image/png": "[encoded data removed]",
            "text/plain": [
              "<Figure size 640x480 with 1 Axes>"
            ]
          },
          "metadata": {},
          "output_type": "display_data"
        }
      ],
      "source": [
        "plt.plot(monthly_client_payment, label='Original')\n",
        "plt.plot(moving_avg, label='3-months moving average', linestyle='--')\n",
        "plt.legend()\n",
        "plt.title('Client Payments with 3-Month Rolling Average');"
      ]
    },
    {
      "cell_type": "markdown",
      "id": "089a9dba",
      "metadata": {
        "id": "089a9dba"
      },
      "source": [
        "### Let's plot the weekly vendor payment data"
      ]
    },
    {
      "cell_type": "code",
      "execution_count": null,
      "id": "852985bb",
      "metadata": {
        "id": "852985bb"
      },
      "outputs": [],
      "source": [
        "#set the transaction date as the date index\n",
        "data.set_index('Transaction Date', inplace=True)"
      ]
    },
    {
      "cell_type": "code",
      "execution_count": null,
      "id": "2fdc7c2e",
      "metadata": {
        "id": "2fdc7c2e"
      },
      "outputs": [],
      "source": [
        "#sort the data by date index\n",
        "data.sort_index(inplace=True)"
      ]
    },
    {
      "cell_type": "code",
      "execution_count": null,
      "id": "3155cdd3",
      "metadata": {
        "id": "3155cdd3"
      },
      "outputs": [],
      "source": [
        "#create the weekly vendor payment data\n",
        "weekly_vendor_payment=data['Vendor Payment'].resample('W').sum()"
      ]
    },
    {
      "cell_type": "code",
      "execution_count": null,
      "id": "df659d6a",
      "metadata": {
        "id": "df659d6a",
        "outputId": "e03383c2-28ff-4b7f-c6e7-091ca27b23e1"
      },
      "outputs": [
        {
          "data": {
            "text/plain": [
              "38"
            ]
          },
          "execution_count": 9,
          "metadata": {},
          "output_type": "execute_result"
        }
      ],
      "source": [
        "#total number of weeks\n",
        "weekly_vendor_payment.size"
      ]
    },
    {
      "cell_type": "code",
      "execution_count": null,
      "id": "18c55ca7",
      "metadata": {
        "id": "18c55ca7",
        "outputId": "de4db5c9-9256-4a46-fa98-240bf043dc29"
      },
      "outputs": [
        {
          "data": {
            "text/plain": [
              "4949.8"
            ]
          },
          "execution_count": 10,
          "metadata": {},
          "output_type": "execute_result"
        }
      ],
      "source": [
        "#vendor payment on the final week (38th)\n",
        "weekly_vendor_payment.iloc[37]"
      ]
    },
    {
      "cell_type": "code",
      "execution_count": null,
      "id": "4e646eca",
      "metadata": {
        "id": "4e646eca",
        "outputId": "920062b1-4afb-4d70-bfbc-afbf3bbc2706"
      },
      "outputs": [
        {
          "data": {
            "text/plain": [
              "Transaction Date\n",
              "2024-01-07      584.44\n",
              "2024-01-14     1320.56\n",
              "2024-01-21    14587.20\n",
              "2024-01-28    11494.60\n",
              "2024-02-04     7439.20\n",
              "2024-02-11     6663.82\n",
              "2024-02-18     9756.00\n",
              "2024-02-25     6998.65\n",
              "2024-03-03     2429.70\n",
              "2024-03-10     7023.40\n",
              "Freq: W-SUN, Name: Vendor Payment, dtype: float64"
            ]
          },
          "execution_count": 11,
          "metadata": {},
          "output_type": "execute_result"
        }
      ],
      "source": [
        "weekly_vendor_payment.head(10)"
      ]
    },
    {
      "cell_type": "code",
      "execution_count": null,
      "id": "a0e96cc0",
      "metadata": {
        "id": "a0e96cc0",
        "outputId": "69ffc279-b1a0-41e5-d314-520a8f53b96a"
      },
      "outputs": [
        {
          "data": {
            "image/png": "[encoded data removed]",
            "text/plain": [
              "<Figure size 640x480 with 1 Axes>"
            ]
          },
          "metadata": {},
          "output_type": "display_data"
        }
      ],
      "source": [
        "#plot the weekly vendor payment data\n",
        "plt.plot(weekly_vendor_payment)\n",
        "plt.xticks(rotation=300); #rotate the date on the x-axis by 300 degree"
      ]
    },
    {
      "cell_type": "markdown",
      "id": "2223de19",
      "metadata": {
        "id": "2223de19"
      },
      "source": [
        "### ADF test to check whether the weekly vendor payment data is stationary or non-stationary"
      ]
    },
    {
      "cell_type": "code",
      "execution_count": null,
      "id": "71a3b1b2",
      "metadata": {
        "id": "71a3b1b2"
      },
      "outputs": [],
      "source": [
        "from statsmodels.tsa.stattools import adfuller"
      ]
    },
    {
      "cell_type": "code",
      "execution_count": null,
      "id": "7ecae178",
      "metadata": {
        "id": "7ecae178",
        "outputId": "bd9e9459-c0a2-4ef9-98a2-1f174f1c6190"
      },
      "outputs": [
        {
          "data": {
            "text/plain": [
              "0.0001125549213634792"
            ]
          },
          "execution_count": 14,
          "metadata": {},
          "output_type": "execute_result"
        }
      ],
      "source": [
        "#p-value for the adfuller test\n",
        "adfuller(weekly_vendor_payment)[1]"
      ]
    },
    {
      "cell_type": "markdown",
      "id": "076c8a04",
      "metadata": {
        "id": "076c8a04"
      },
      "source": [
        "#### As the p-value is much less than the 0.05, then we can consider our weekly vendor payment data as stationary"
      ]
    },
    {
      "cell_type": "markdown",
      "id": "16cf41f8",
      "metadata": {
        "id": "16cf41f8"
      },
      "source": [
        "### We can fit ARIMA model for forecasting weekly vendor data. ARIMA model can only be fitted in a stationary time series data.\n",
        "### There are 3 important parameters to fit an ARIMA model.  p (Auto-Regressive part) and q (Moving Average part) and d (differencing part). A simple starting point would be (p=1, d=0, q=1). Discuss with Cooper to know more about these parameters."
      ]
    },
    {
      "cell_type": "code",
      "execution_count": null,
      "id": "3fb3bc35",
      "metadata": {
        "id": "3fb3bc35"
      },
      "outputs": [],
      "source": [
        "from statsmodels.tsa.arima.model import ARIMA"
      ]
    },
    {
      "cell_type": "code",
      "execution_count": null,
      "id": "e366ecba",
      "metadata": {
        "id": "e366ecba",
        "outputId": "066ab2d7-79f3-4613-d59e-d1a8bb1a1986"
      },
      "outputs": [
        {
          "name": "stderr",
          "output_type": "stream",
          "text": [
            "C:\\Users\\PC\\anaconda3\\lib\\site-packages\\statsmodels\\tsa\\statespace\\sarimax.py:966: UserWarning: Non-stationary starting autoregressive parameters found. Using zeros as starting parameters.\n",
            "  warn('Non-stationary starting autoregressive parameters'\n",
            "C:\\Users\\PC\\anaconda3\\lib\\site-packages\\statsmodels\\tsa\\statespace\\sarimax.py:978: UserWarning: Non-invertible starting MA parameters found. Using zeros as starting parameters.\n",
            "  warn('Non-invertible starting MA parameters found.'\n"
          ]
        }
      ],
      "source": [
        "model=ARIMA(weekly_vendor_payment, order=(1,0,1))\n",
        "model_fit=model.fit()"
      ]
    },
    {
      "cell_type": "markdown",
      "id": "d21474e1",
      "metadata": {
        "id": "d21474e1"
      },
      "source": [
        "#### If the residuals are randomly distributed then we can say the ARIMA model is a good fit"
      ]
    },
    {
      "cell_type": "code",
      "execution_count": null,
      "id": "ac3022c9",
      "metadata": {
        "id": "ac3022c9",
        "outputId": "b5150312-c73d-426b-c728-2dfbf55f8f1b"
      },
      "outputs": [
        {
          "data": {
            "image/png": "[encoded data removed]",
            "text/plain": [
              "<Figure size 640x480 with 1 Axes>"
            ]
          },
          "metadata": {},
          "output_type": "display_data"
        }
      ],
      "source": [
        "residuals=model_fit.resid\n",
        "plt.plot(residuals)\n",
        "plt.xticks(rotation=300);"
      ]
    },
    {
      "cell_type": "code",
      "execution_count": null,
      "id": "d51895db",
      "metadata": {
        "id": "d51895db"
      },
      "outputs": [],
      "source": [
        "forecast=model_fit.forecast(steps=15)"
      ]
    },
    {
      "cell_type": "code",
      "execution_count": null,
      "id": "74bc6b12",
      "metadata": {
        "id": "74bc6b12",
        "outputId": "d2bfcd80-cc9f-4d1d-e97c-ec55211c1212"
      },
      "outputs": [
        {
          "data": {
            "image/png": "[encoded data removed]",
            "text/plain": [
              "<Figure size 640x480 with 1 Axes>"
            ]
          },
          "metadata": {},
          "output_type": "display_data"
        }
      ],
      "source": [
        "plt.plot(weekly_vendor_payment, label='Historical Vendor Payments')\n",
        "plt.plot(forecast, label='Forecasted Vendor Payments', color='red')\n",
        "plt.legend();"
      ]
    },
    {
      "cell_type": "markdown",
      "id": "2d2a9948",
      "metadata": {
        "id": "2d2a9948"
      },
      "source": [
        "#### Forecasted vendor payment for the next 10 weeks based on ARIMA model"
      ]
    },
    {
      "cell_type": "code",
      "execution_count": null,
      "id": "2b0d989d",
      "metadata": {
        "id": "2b0d989d",
        "outputId": "7154093b-98b8-47cd-f849-9ad836b732f4"
      },
      "outputs": [
        {
          "data": {
            "text/plain": [
              "2024-09-29    9543.741704\n",
              "2024-10-06    9574.839499\n",
              "2024-10-13    9601.934177\n",
              "2024-10-20    9625.541046\n",
              "2024-10-27    9646.109081\n",
              "2024-11-03    9664.029460\n",
              "2024-11-10    9679.643008\n",
              "2024-11-17    9693.246675\n",
              "2024-11-24    9705.099187\n",
              "2024-12-01    9715.425964\n",
              "2024-12-08    9724.423409\n",
              "2024-12-15    9732.262642\n",
              "2024-12-22    9739.092757\n",
              "2024-12-29    9745.043653\n",
              "2025-01-05    9750.228510\n",
              "Freq: W-SUN, Name: predicted_mean, dtype: float64"
            ]
          },
          "execution_count": 26,
          "metadata": {},
          "output_type": "execute_result"
        }
      ],
      "source": [
        "forecast"
      ]
    },
    {
      "cell_type": "markdown",
      "id": "3867a4f1",
      "metadata": {
        "id": "3867a4f1"
      },
      "source": [
        "### Lets fit another type of ARIMA model (SARIMAX) for the data which may have inherent seasonality. For example our vendor payment data may contain seasonality."
      ]
    },
    {
      "cell_type": "code",
      "execution_count": null,
      "id": "b692aaca",
      "metadata": {
        "id": "b692aaca"
      },
      "outputs": [],
      "source": [
        "from statsmodels.tsa.statespace.sarimax import SARIMAX"
      ]
    },
    {
      "cell_type": "code",
      "execution_count": null,
      "id": "901130c7",
      "metadata": {
        "id": "901130c7",
        "outputId": "64bc1de6-e1d7-4872-de3d-f17b2d85960b"
      },
      "outputs": [
        {
          "name": "stderr",
          "output_type": "stream",
          "text": [
            "C:\\Users\\PC\\anaconda3\\lib\\site-packages\\statsmodels\\tsa\\statespace\\sarimax.py:866: UserWarning: Too few observations to estimate starting parameters for seasonal ARMA. All parameters except for variances will be set to zeros.\n",
            "  warn('Too few observations to estimate starting parameters%s.'\n"
          ]
        }
      ],
      "source": [
        "model_seasonality=SARIMAX(weekly_vendor_payment, order=(1,0,1), seasonal_order=(1,0,1,38)) #vendor payment data has 38 week\n",
        "model_fit_seasonality=model_seasonality.fit()"
      ]
    },
    {
      "cell_type": "code",
      "execution_count": null,
      "id": "94c1bc67",
      "metadata": {
        "id": "94c1bc67",
        "outputId": "74737955-c48c-492c-96cd-a09d78073944"
      },
      "outputs": [
        {
          "data": {
            "image/png": "[encoded data removed]",
            "text/plain": [
              "<Figure size 640x480 with 1 Axes>"
            ]
          },
          "metadata": {},
          "output_type": "display_data"
        }
      ],
      "source": [
        "residuals=model_fit_seasonality.resid\n",
        "plt.plot(residuals)\n",
        "plt.xticks(rotation=300);"
      ]
    },
    {
      "cell_type": "code",
      "execution_count": null,
      "id": "64a850e9",
      "metadata": {
        "id": "64a850e9"
      },
      "outputs": [],
      "source": [
        "forecast_seasonality=model_fit_seasonality.forecast(steps=15)"
      ]
    },
    {
      "cell_type": "markdown",
      "id": "6ea47a62",
      "metadata": {
        "id": "6ea47a62"
      },
      "source": [
        "#### Forecasted vendor payments for the next 15 weeks"
      ]
    },
    {
      "cell_type": "code",
      "execution_count": null,
      "id": "a5ab0b66",
      "metadata": {
        "id": "a5ab0b66",
        "outputId": "b5b19f45-bc43-43b8-bce2-41aa047cec58"
      },
      "outputs": [
        {
          "data": {
            "text/plain": [
              "2024-09-29    11494.114922\n",
              "2024-10-06    11141.327036\n",
              "2024-10-13     5639.088079\n",
              "2024-10-20     6860.196960\n",
              "2024-10-27     8477.191111\n",
              "2024-11-03     8746.401575\n",
              "2024-11-10     7426.366671\n",
              "2024-11-17     8510.509644\n",
              "2024-11-24    10339.365012\n",
              "2024-12-01     8402.853841\n",
              "2024-12-08     8410.672265\n",
              "2024-12-15     7897.210079\n",
              "2024-12-22     8193.143410\n",
              "2024-12-29     6807.176489\n",
              "2025-01-05     8532.441541\n",
              "Freq: W-SUN, Name: predicted_mean, dtype: float64"
            ]
          },
          "execution_count": 32,
          "metadata": {},
          "output_type": "execute_result"
        }
      ],
      "source": [
        "forecast_seasonality"
      ]
    },
    {
      "cell_type": "code",
      "execution_count": null,
      "id": "9dcc2dd6",
      "metadata": {
        "id": "9dcc2dd6",
        "outputId": "de9caf70-796d-4c94-83e2-6694779cb406"
      },
      "outputs": [
        {
          "data": {
            "image/png": "[encoded data removed]",
            "text/plain": [
              "<Figure size 640x480 with 1 Axes>"
            ]
          },
          "metadata": {},
          "output_type": "display_data"
        }
      ],
      "source": [
        "plt.plot(weekly_vendor_payment, label='Historical Vendor Payments')\n",
        "plt.plot(forecast_seasonality, label='Forecasted Vendor Payments', color='red')\n",
        "plt.legend();"
      ]
    },
    {
      "cell_type": "markdown",
      "id": "34ba5078",
      "metadata": {
        "id": "34ba5078"
      },
      "source": [
        "### It can be seen that the seasonal fit ARIMA model is better than the stationary fit ARIMA model"
      ]
    },
    {
      "cell_type": "markdown",
      "id": "caf3b07d",
      "metadata": {
        "id": "caf3b07d"
      },
      "source": [
        "### Find the 95% confidence interval for the weekly vendor payment"
      ]
    },
    {
      "cell_type": "code",
      "execution_count": null,
      "id": "ca810210",
      "metadata": {
        "id": "ca810210"
      },
      "outputs": [],
      "source": [
        "# our weekly vendor payment data has 38 weeks. So we can consider it as large sample data and apply the Z-distribution\n",
        "# first we will calculate the mean and the standard deviation/error\n",
        "mean=np.mean(weekly_vendor_payment)\n",
        "std_error=stats.sem(weekly_vendor_payment)"
      ]
    },
    {
      "cell_type": "code",
      "execution_count": null,
      "id": "38345fce",
      "metadata": {
        "id": "38345fce",
        "outputId": "51f36a22-d65c-45a8-8701-cbe386f76720"
      },
      "outputs": [
        {
          "name": "stdout",
          "output_type": "stream",
          "text": [
            "Mean: 9829.591052631578\n",
            "Confidence Interval: (8448.594257359635, 11210.587847903522)\n"
          ]
        }
      ],
      "source": [
        "confidence_interval=stats.norm.interval(0.95, loc=mean, scale=std_error)\n",
        "print(f\"Mean: {mean}\")\n",
        "print(f\"Confidence Interval: {confidence_interval}\")"
      ]
    },
    {
      "cell_type": "code",
      "execution_count": null,
      "id": "67f4e102",
      "metadata": {
        "id": "67f4e102"
      },
      "outputs": [],
      "source": []
    }
  ],
  "metadata": {
    "kernelspec": {
      "display_name": "Python 3 (ipykernel)",
      "language": "python",
      "name": "python3"
    },
    "language_info": {
      "codemirror_mode": {
        "name": "ipython",
        "version": 3
      },
      "file_extension": ".py",
      "mimetype": "text/x-python",
      "name": "python",
      "nbconvert_exporter": "python",
      "pygments_lexer": "ipython3",
      "version": "3.10.9"
    },
    "colab": {
      "provenance": [],
      "include_colab_link": true
    }
  },
  "nbformat": 4,
  "nbformat_minor": 5
}